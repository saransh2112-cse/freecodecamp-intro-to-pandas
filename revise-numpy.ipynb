{
 "cells": [
  {
   "cell_type": "code",
   "execution_count": 1,
   "id": "cb7c8b8a",
   "metadata": {
    "_cell_guid": "b1076dfc-b9ad-4769-8c92-a6c4dae69d19",
    "_uuid": "8f2839f25d086af736a60e9eeb907d3b93b6e0e5",
    "execution": {
     "iopub.execute_input": "2022-09-08T19:29:45.346915Z",
     "iopub.status.busy": "2022-09-08T19:29:45.346322Z",
     "iopub.status.idle": "2022-09-08T19:29:45.357061Z",
     "shell.execute_reply": "2022-09-08T19:29:45.356178Z"
    },
    "papermill": {
     "duration": 0.040594,
     "end_time": "2022-09-08T19:29:45.359469",
     "exception": false,
     "start_time": "2022-09-08T19:29:45.318875",
     "status": "completed"
    },
    "tags": []
   },
   "outputs": [],
   "source": [
    "# This Python 3 environment comes with many helpful analytics libraries installed\n",
    "# It is defined by the kaggle/python Docker image: https://github.com/kaggle/docker-python\n",
    "# For example, here's several helpful packages to load\n",
    "\n",
    "import numpy as np # linear algebra\n",
    "import pandas as pd # data processing, CSV file I/O (e.g. pd.read_csv)\n",
    "\n",
    "# Input data files are available in the read-only \"../input/\" directory\n",
    "# For example, running this (by clicking run or pressing Shift+Enter) will list all files under the input directory\n",
    "\n",
    "import os\n",
    "for dirname, _, filenames in os.walk('/kaggle/input'):\n",
    "    for filename in filenames:\n",
    "        print(os.path.join(dirname, filename))\n",
    "\n",
    "# You can write up to 20GB to the current directory (/kaggle/working/) that gets preserved as output when you create a version using \"Save & Run All\" \n",
    "# You can also write temporary files to /kaggle/temp/, but they won't be saved outside of the current session"
   ]
  },
  {
   "cell_type": "markdown",
   "id": "7ea84421",
   "metadata": {
    "papermill": {
     "duration": 0.020641,
     "end_time": "2022-09-08T19:29:45.400780",
     "exception": false,
     "start_time": "2022-09-08T19:29:45.380139",
     "status": "completed"
    },
    "tags": []
   },
   "source": [
    "Numpy: Numeric computing library\n",
    "NumPy (Numerical Python) is one of the core packages for numerical computing in Python. Pandas, Matplotlib, Statmodels and many other Scientific libraries rely on NumPy.\n",
    "\n",
    "NumPy major contributions are:\n",
    "\n",
    "Efficient numeric computation with C primitives\n",
    "Efficient collections with vectorized operations\n",
    "An integrated and natural Linear Algebra API\n",
    "A C API for connecting NumPy with libraries written in C, C++, or FORTRAN.\n",
    "Let's develop on efficiency. In Python, everything is an object, which means that even simple ints are also objects, with all the required machinery to make object work. We call them \"Boxed Ints\". In contrast, NumPy uses primitive numeric types (floats, ints) which makes storing and computation efficient.\n",
    "\n"
   ]
  },
  {
   "cell_type": "markdown",
   "id": "e0df842e",
   "metadata": {
    "papermill": {
     "duration": 0.024998,
     "end_time": "2022-09-08T19:29:45.447880",
     "exception": false,
     "start_time": "2022-09-08T19:29:45.422882",
     "status": "completed"
    },
    "tags": []
   },
   "source": [
    "Basic"
   ]
  },
  {
   "cell_type": "code",
   "execution_count": 2,
   "id": "0fd698f7",
   "metadata": {
    "execution": {
     "iopub.execute_input": "2022-09-08T19:29:45.498267Z",
     "iopub.status.busy": "2022-09-08T19:29:45.497692Z",
     "iopub.status.idle": "2022-09-08T19:29:45.502128Z",
     "shell.execute_reply": "2022-09-08T19:29:45.500946Z"
    },
    "papermill": {
     "duration": 0.031682,
     "end_time": "2022-09-08T19:29:45.504385",
     "exception": false,
     "start_time": "2022-09-08T19:29:45.472703",
     "status": "completed"
    },
    "tags": []
   },
   "outputs": [],
   "source": [
    "import sys\n",
    "import numpy as np"
   ]
  },
  {
   "cell_type": "code",
   "execution_count": 3,
   "id": "94aeb5cb",
   "metadata": {
    "execution": {
     "iopub.execute_input": "2022-09-08T19:29:45.548632Z",
     "iopub.status.busy": "2022-09-08T19:29:45.548069Z",
     "iopub.status.idle": "2022-09-08T19:29:45.556253Z",
     "shell.execute_reply": "2022-09-08T19:29:45.555729Z"
    },
    "papermill": {
     "duration": 0.032003,
     "end_time": "2022-09-08T19:29:45.558482",
     "exception": false,
     "start_time": "2022-09-08T19:29:45.526479",
     "status": "completed"
    },
    "tags": []
   },
   "outputs": [
    {
     "data": {
      "text/plain": [
       "array([1, 2, 3, 4])"
      ]
     },
     "execution_count": 3,
     "metadata": {},
     "output_type": "execute_result"
    }
   ],
   "source": [
    "np.array([1,2,3,4])"
   ]
  },
  {
   "cell_type": "code",
   "execution_count": 4,
   "id": "8b2581e5",
   "metadata": {
    "execution": {
     "iopub.execute_input": "2022-09-08T19:29:45.602930Z",
     "iopub.status.busy": "2022-09-08T19:29:45.602196Z",
     "iopub.status.idle": "2022-09-08T19:29:45.605946Z",
     "shell.execute_reply": "2022-09-08T19:29:45.605394Z"
    },
    "papermill": {
     "duration": 0.027745,
     "end_time": "2022-09-08T19:29:45.607464",
     "exception": false,
     "start_time": "2022-09-08T19:29:45.579719",
     "status": "completed"
    },
    "tags": []
   },
   "outputs": [],
   "source": [
    "a = np.array([1,2,3,4])\n",
    "b = np.array([0,0.5,1,1.5,2])"
   ]
  },
  {
   "cell_type": "code",
   "execution_count": 5,
   "id": "6a41aadf",
   "metadata": {
    "execution": {
     "iopub.execute_input": "2022-09-08T19:29:45.658851Z",
     "iopub.status.busy": "2022-09-08T19:29:45.658105Z",
     "iopub.status.idle": "2022-09-08T19:29:45.664733Z",
     "shell.execute_reply": "2022-09-08T19:29:45.663723Z"
    },
    "papermill": {
     "duration": 0.032982,
     "end_time": "2022-09-08T19:29:45.666839",
     "exception": false,
     "start_time": "2022-09-08T19:29:45.633857",
     "status": "completed"
    },
    "tags": []
   },
   "outputs": [
    {
     "data": {
      "text/plain": [
       "(1, 2)"
      ]
     },
     "execution_count": 5,
     "metadata": {},
     "output_type": "execute_result"
    }
   ],
   "source": [
    "a[0],a[1]"
   ]
  },
  {
   "cell_type": "code",
   "execution_count": 6,
   "id": "d3d56568",
   "metadata": {
    "execution": {
     "iopub.execute_input": "2022-09-08T19:29:45.714072Z",
     "iopub.status.busy": "2022-09-08T19:29:45.713500Z",
     "iopub.status.idle": "2022-09-08T19:29:45.718882Z",
     "shell.execute_reply": "2022-09-08T19:29:45.718240Z"
    },
    "papermill": {
     "duration": 0.030751,
     "end_time": "2022-09-08T19:29:45.720574",
     "exception": false,
     "start_time": "2022-09-08T19:29:45.689823",
     "status": "completed"
    },
    "tags": []
   },
   "outputs": [
    {
     "data": {
      "text/plain": [
       "array([1, 2, 3, 4])"
      ]
     },
     "execution_count": 6,
     "metadata": {},
     "output_type": "execute_result"
    }
   ],
   "source": [
    "a[0:]"
   ]
  },
  {
   "cell_type": "code",
   "execution_count": 7,
   "id": "a75f296b",
   "metadata": {
    "execution": {
     "iopub.execute_input": "2022-09-08T19:29:45.767085Z",
     "iopub.status.busy": "2022-09-08T19:29:45.766462Z",
     "iopub.status.idle": "2022-09-08T19:29:45.773416Z",
     "shell.execute_reply": "2022-09-08T19:29:45.772564Z"
    },
    "papermill": {
     "duration": 0.033747,
     "end_time": "2022-09-08T19:29:45.776067",
     "exception": false,
     "start_time": "2022-09-08T19:29:45.742320",
     "status": "completed"
    },
    "tags": []
   },
   "outputs": [
    {
     "data": {
      "text/plain": [
       "array([2, 3])"
      ]
     },
     "execution_count": 7,
     "metadata": {},
     "output_type": "execute_result"
    }
   ],
   "source": [
    "a[1:3]"
   ]
  },
  {
   "cell_type": "code",
   "execution_count": 8,
   "id": "a976d9a1",
   "metadata": {
    "execution": {
     "iopub.execute_input": "2022-09-08T19:29:45.821973Z",
     "iopub.status.busy": "2022-09-08T19:29:45.821360Z",
     "iopub.status.idle": "2022-09-08T19:29:45.827468Z",
     "shell.execute_reply": "2022-09-08T19:29:45.826570Z"
    },
    "papermill": {
     "duration": 0.031243,
     "end_time": "2022-09-08T19:29:45.829345",
     "exception": false,
     "start_time": "2022-09-08T19:29:45.798102",
     "status": "completed"
    },
    "tags": []
   },
   "outputs": [
    {
     "data": {
      "text/plain": [
       "array([2, 3])"
      ]
     },
     "execution_count": 8,
     "metadata": {},
     "output_type": "execute_result"
    }
   ],
   "source": [
    "a[1:-1]"
   ]
  },
  {
   "cell_type": "code",
   "execution_count": 9,
   "id": "f765450a",
   "metadata": {
    "execution": {
     "iopub.execute_input": "2022-09-08T19:29:45.875789Z",
     "iopub.status.busy": "2022-09-08T19:29:45.875225Z",
     "iopub.status.idle": "2022-09-08T19:29:45.880799Z",
     "shell.execute_reply": "2022-09-08T19:29:45.880099Z"
    },
    "papermill": {
     "duration": 0.030738,
     "end_time": "2022-09-08T19:29:45.882514",
     "exception": false,
     "start_time": "2022-09-08T19:29:45.851776",
     "status": "completed"
    },
    "tags": []
   },
   "outputs": [
    {
     "data": {
      "text/plain": [
       "array([1, 3])"
      ]
     },
     "execution_count": 9,
     "metadata": {},
     "output_type": "execute_result"
    }
   ],
   "source": [
    "a[::2]"
   ]
  },
  {
   "cell_type": "code",
   "execution_count": 10,
   "id": "6c024d7f",
   "metadata": {
    "execution": {
     "iopub.execute_input": "2022-09-08T19:29:45.927324Z",
     "iopub.status.busy": "2022-09-08T19:29:45.926786Z",
     "iopub.status.idle": "2022-09-08T19:29:45.932261Z",
     "shell.execute_reply": "2022-09-08T19:29:45.931592Z"
    },
    "papermill": {
     "duration": 0.029876,
     "end_time": "2022-09-08T19:29:45.934064",
     "exception": false,
     "start_time": "2022-09-08T19:29:45.904188",
     "status": "completed"
    },
    "tags": []
   },
   "outputs": [
    {
     "data": {
      "text/plain": [
       "array([0. , 0.5, 1. , 1.5, 2. ])"
      ]
     },
     "execution_count": 10,
     "metadata": {},
     "output_type": "execute_result"
    }
   ],
   "source": [
    "b"
   ]
  },
  {
   "cell_type": "code",
   "execution_count": 11,
   "id": "c0e656ce",
   "metadata": {
    "execution": {
     "iopub.execute_input": "2022-09-08T19:29:45.978959Z",
     "iopub.status.busy": "2022-09-08T19:29:45.978354Z",
     "iopub.status.idle": "2022-09-08T19:29:45.984063Z",
     "shell.execute_reply": "2022-09-08T19:29:45.983237Z"
    },
    "papermill": {
     "duration": 0.030097,
     "end_time": "2022-09-08T19:29:45.985725",
     "exception": false,
     "start_time": "2022-09-08T19:29:45.955628",
     "status": "completed"
    },
    "tags": []
   },
   "outputs": [
    {
     "data": {
      "text/plain": [
       "(0.0, 1.0, 2.0)"
      ]
     },
     "execution_count": 11,
     "metadata": {},
     "output_type": "execute_result"
    }
   ],
   "source": [
    "b[0], b[2] , b[-1]"
   ]
  },
  {
   "cell_type": "code",
   "execution_count": 12,
   "id": "205ebc0d",
   "metadata": {
    "execution": {
     "iopub.execute_input": "2022-09-08T19:29:46.031385Z",
     "iopub.status.busy": "2022-09-08T19:29:46.030822Z",
     "iopub.status.idle": "2022-09-08T19:29:46.036396Z",
     "shell.execute_reply": "2022-09-08T19:29:46.035778Z"
    },
    "papermill": {
     "duration": 0.030648,
     "end_time": "2022-09-08T19:29:46.038038",
     "exception": false,
     "start_time": "2022-09-08T19:29:46.007390",
     "status": "completed"
    },
    "tags": []
   },
   "outputs": [
    {
     "data": {
      "text/plain": [
       "array([0., 1., 2.])"
      ]
     },
     "execution_count": 12,
     "metadata": {},
     "output_type": "execute_result"
    }
   ],
   "source": [
    "b[[0,2,-1]]"
   ]
  },
  {
   "cell_type": "markdown",
   "id": "fd43b3bf",
   "metadata": {
    "papermill": {
     "duration": 0.021291,
     "end_time": "2022-09-08T19:29:46.080986",
     "exception": false,
     "start_time": "2022-09-08T19:29:46.059695",
     "status": "completed"
    },
    "tags": []
   },
   "source": [
    "# **ARRAY TYPES**"
   ]
  },
  {
   "cell_type": "code",
   "execution_count": 13,
   "id": "6c99e270",
   "metadata": {
    "execution": {
     "iopub.execute_input": "2022-09-08T19:29:46.126773Z",
     "iopub.status.busy": "2022-09-08T19:29:46.126208Z",
     "iopub.status.idle": "2022-09-08T19:29:46.131647Z",
     "shell.execute_reply": "2022-09-08T19:29:46.130909Z"
    },
    "papermill": {
     "duration": 0.030068,
     "end_time": "2022-09-08T19:29:46.133299",
     "exception": false,
     "start_time": "2022-09-08T19:29:46.103231",
     "status": "completed"
    },
    "tags": []
   },
   "outputs": [
    {
     "data": {
      "text/plain": [
       "array([1, 2, 3, 4])"
      ]
     },
     "execution_count": 13,
     "metadata": {},
     "output_type": "execute_result"
    }
   ],
   "source": [
    "a"
   ]
  },
  {
   "cell_type": "code",
   "execution_count": 14,
   "id": "ee07c7be",
   "metadata": {
    "execution": {
     "iopub.execute_input": "2022-09-08T19:29:46.179824Z",
     "iopub.status.busy": "2022-09-08T19:29:46.179078Z",
     "iopub.status.idle": "2022-09-08T19:29:46.184901Z",
     "shell.execute_reply": "2022-09-08T19:29:46.184329Z"
    },
    "papermill": {
     "duration": 0.031034,
     "end_time": "2022-09-08T19:29:46.186484",
     "exception": false,
     "start_time": "2022-09-08T19:29:46.155450",
     "status": "completed"
    },
    "tags": []
   },
   "outputs": [
    {
     "data": {
      "text/plain": [
       "dtype('int64')"
      ]
     },
     "execution_count": 14,
     "metadata": {},
     "output_type": "execute_result"
    }
   ],
   "source": [
    "a.dtype"
   ]
  },
  {
   "cell_type": "code",
   "execution_count": 15,
   "id": "0ecd1ba9",
   "metadata": {
    "execution": {
     "iopub.execute_input": "2022-09-08T19:29:46.233303Z",
     "iopub.status.busy": "2022-09-08T19:29:46.232763Z",
     "iopub.status.idle": "2022-09-08T19:29:46.238367Z",
     "shell.execute_reply": "2022-09-08T19:29:46.237612Z"
    },
    "papermill": {
     "duration": 0.031261,
     "end_time": "2022-09-08T19:29:46.239946",
     "exception": false,
     "start_time": "2022-09-08T19:29:46.208685",
     "status": "completed"
    },
    "tags": []
   },
   "outputs": [
    {
     "data": {
      "text/plain": [
       "array([0. , 0.5, 1. , 1.5, 2. ])"
      ]
     },
     "execution_count": 15,
     "metadata": {},
     "output_type": "execute_result"
    }
   ],
   "source": [
    "b"
   ]
  },
  {
   "cell_type": "code",
   "execution_count": 16,
   "id": "ee48f064",
   "metadata": {
    "execution": {
     "iopub.execute_input": "2022-09-08T19:29:46.288103Z",
     "iopub.status.busy": "2022-09-08T19:29:46.287507Z",
     "iopub.status.idle": "2022-09-08T19:29:46.293367Z",
     "shell.execute_reply": "2022-09-08T19:29:46.292101Z"
    },
    "papermill": {
     "duration": 0.0327,
     "end_time": "2022-09-08T19:29:46.295993",
     "exception": false,
     "start_time": "2022-09-08T19:29:46.263293",
     "status": "completed"
    },
    "tags": []
   },
   "outputs": [
    {
     "data": {
      "text/plain": [
       "dtype('float64')"
      ]
     },
     "execution_count": 16,
     "metadata": {},
     "output_type": "execute_result"
    }
   ],
   "source": [
    "b.dtype"
   ]
  },
  {
   "cell_type": "code",
   "execution_count": 17,
   "id": "ff45c690",
   "metadata": {
    "execution": {
     "iopub.execute_input": "2022-09-08T19:29:46.345491Z",
     "iopub.status.busy": "2022-09-08T19:29:46.345185Z",
     "iopub.status.idle": "2022-09-08T19:29:46.350724Z",
     "shell.execute_reply": "2022-09-08T19:29:46.349895Z"
    },
    "papermill": {
     "duration": 0.031998,
     "end_time": "2022-09-08T19:29:46.352494",
     "exception": false,
     "start_time": "2022-09-08T19:29:46.320496",
     "status": "completed"
    },
    "tags": []
   },
   "outputs": [
    {
     "data": {
      "text/plain": [
       "array([1., 2., 3., 4.])"
      ]
     },
     "execution_count": 17,
     "metadata": {},
     "output_type": "execute_result"
    }
   ],
   "source": [
    "np.array([1,2,3,4],dtype = float)"
   ]
  },
  {
   "cell_type": "code",
   "execution_count": 18,
   "id": "2e1ca186",
   "metadata": {
    "execution": {
     "iopub.execute_input": "2022-09-08T19:29:46.400009Z",
     "iopub.status.busy": "2022-09-08T19:29:46.399515Z",
     "iopub.status.idle": "2022-09-08T19:29:46.405550Z",
     "shell.execute_reply": "2022-09-08T19:29:46.404884Z"
    },
    "papermill": {
     "duration": 0.03172,
     "end_time": "2022-09-08T19:29:46.407166",
     "exception": false,
     "start_time": "2022-09-08T19:29:46.375446",
     "status": "completed"
    },
    "tags": []
   },
   "outputs": [
    {
     "data": {
      "text/plain": [
       "array([1, 2, 3, 4])"
      ]
     },
     "execution_count": 18,
     "metadata": {},
     "output_type": "execute_result"
    }
   ],
   "source": [
    "np.array([1,2,3,4],dtype = int)"
   ]
  },
  {
   "cell_type": "code",
   "execution_count": 19,
   "id": "c340c196",
   "metadata": {
    "execution": {
     "iopub.execute_input": "2022-09-08T19:29:46.455576Z",
     "iopub.status.busy": "2022-09-08T19:29:46.454960Z",
     "iopub.status.idle": "2022-09-08T19:29:46.459062Z",
     "shell.execute_reply": "2022-09-08T19:29:46.458447Z"
    },
    "papermill": {
     "duration": 0.030425,
     "end_time": "2022-09-08T19:29:46.460788",
     "exception": false,
     "start_time": "2022-09-08T19:29:46.430363",
     "status": "completed"
    },
    "tags": []
   },
   "outputs": [],
   "source": [
    "c = np.array(['a','b','c'])"
   ]
  },
  {
   "cell_type": "code",
   "execution_count": 20,
   "id": "04bd79b3",
   "metadata": {
    "execution": {
     "iopub.execute_input": "2022-09-08T19:29:46.508486Z",
     "iopub.status.busy": "2022-09-08T19:29:46.507930Z",
     "iopub.status.idle": "2022-09-08T19:29:46.515218Z",
     "shell.execute_reply": "2022-09-08T19:29:46.514127Z"
    },
    "papermill": {
     "duration": 0.033709,
     "end_time": "2022-09-08T19:29:46.517392",
     "exception": false,
     "start_time": "2022-09-08T19:29:46.483683",
     "status": "completed"
    },
    "tags": []
   },
   "outputs": [
    {
     "data": {
      "text/plain": [
       "dtype('<U1')"
      ]
     },
     "execution_count": 20,
     "metadata": {},
     "output_type": "execute_result"
    }
   ],
   "source": [
    "c.dtype"
   ]
  },
  {
   "cell_type": "code",
   "execution_count": 21,
   "id": "c8462af6",
   "metadata": {
    "execution": {
     "iopub.execute_input": "2022-09-08T19:29:46.565703Z",
     "iopub.status.busy": "2022-09-08T19:29:46.565338Z",
     "iopub.status.idle": "2022-09-08T19:29:46.570749Z",
     "shell.execute_reply": "2022-09-08T19:29:46.569152Z"
    },
    "papermill": {
     "duration": 0.032026,
     "end_time": "2022-09-08T19:29:46.572974",
     "exception": false,
     "start_time": "2022-09-08T19:29:46.540948",
     "status": "completed"
    },
    "tags": []
   },
   "outputs": [],
   "source": [
    "d = np.array([{'a':1}])"
   ]
  },
  {
   "cell_type": "code",
   "execution_count": 22,
   "id": "0399f0d3",
   "metadata": {
    "execution": {
     "iopub.execute_input": "2022-09-08T19:29:46.621912Z",
     "iopub.status.busy": "2022-09-08T19:29:46.621550Z",
     "iopub.status.idle": "2022-09-08T19:29:46.628057Z",
     "shell.execute_reply": "2022-09-08T19:29:46.626971Z"
    },
    "papermill": {
     "duration": 0.033091,
     "end_time": "2022-09-08T19:29:46.630123",
     "exception": false,
     "start_time": "2022-09-08T19:29:46.597032",
     "status": "completed"
    },
    "tags": []
   },
   "outputs": [
    {
     "data": {
      "text/plain": [
       "array([{'a': 1}], dtype=object)"
      ]
     },
     "execution_count": 22,
     "metadata": {},
     "output_type": "execute_result"
    }
   ],
   "source": [
    "d"
   ]
  },
  {
   "cell_type": "code",
   "execution_count": 23,
   "id": "fc664717",
   "metadata": {
    "execution": {
     "iopub.execute_input": "2022-09-08T19:29:46.677149Z",
     "iopub.status.busy": "2022-09-08T19:29:46.676841Z",
     "iopub.status.idle": "2022-09-08T19:29:46.683461Z",
     "shell.execute_reply": "2022-09-08T19:29:46.682296Z"
    },
    "papermill": {
     "duration": 0.032324,
     "end_time": "2022-09-08T19:29:46.685426",
     "exception": false,
     "start_time": "2022-09-08T19:29:46.653102",
     "status": "completed"
    },
    "tags": []
   },
   "outputs": [
    {
     "data": {
      "text/plain": [
       "dtype('O')"
      ]
     },
     "execution_count": 23,
     "metadata": {},
     "output_type": "execute_result"
    }
   ],
   "source": [
    "d.dtype"
   ]
  },
  {
   "cell_type": "markdown",
   "id": "3fcc7fd7",
   "metadata": {
    "papermill": {
     "duration": 0.023529,
     "end_time": "2022-09-08T19:29:46.732579",
     "exception": false,
     "start_time": "2022-09-08T19:29:46.709050",
     "status": "completed"
    },
    "tags": []
   },
   "source": [
    "# **Dimensions and shapes**"
   ]
  },
  {
   "cell_type": "code",
   "execution_count": 24,
   "id": "c60796a0",
   "metadata": {
    "execution": {
     "iopub.execute_input": "2022-09-08T19:29:46.780690Z",
     "iopub.status.busy": "2022-09-08T19:29:46.780361Z",
     "iopub.status.idle": "2022-09-08T19:29:46.783982Z",
     "shell.execute_reply": "2022-09-08T19:29:46.783459Z"
    },
    "papermill": {
     "duration": 0.029767,
     "end_time": "2022-09-08T19:29:46.785600",
     "exception": false,
     "start_time": "2022-09-08T19:29:46.755833",
     "status": "completed"
    },
    "tags": []
   },
   "outputs": [],
   "source": [
    "A =  np.array([\n",
    "    [1,2,3],\n",
    "    [4,5,6]\n",
    "])"
   ]
  },
  {
   "cell_type": "code",
   "execution_count": 25,
   "id": "f47a84a0",
   "metadata": {
    "execution": {
     "iopub.execute_input": "2022-09-08T19:29:46.835846Z",
     "iopub.status.busy": "2022-09-08T19:29:46.835507Z",
     "iopub.status.idle": "2022-09-08T19:29:46.841048Z",
     "shell.execute_reply": "2022-09-08T19:29:46.839741Z"
    },
    "papermill": {
     "duration": 0.033203,
     "end_time": "2022-09-08T19:29:46.843076",
     "exception": false,
     "start_time": "2022-09-08T19:29:46.809873",
     "status": "completed"
    },
    "tags": []
   },
   "outputs": [
    {
     "data": {
      "text/plain": [
       "(2, 3)"
      ]
     },
     "execution_count": 25,
     "metadata": {},
     "output_type": "execute_result"
    }
   ],
   "source": [
    "A.shape"
   ]
  },
  {
   "cell_type": "code",
   "execution_count": 26,
   "id": "638c4ec0",
   "metadata": {
    "execution": {
     "iopub.execute_input": "2022-09-08T19:29:46.893936Z",
     "iopub.status.busy": "2022-09-08T19:29:46.893625Z",
     "iopub.status.idle": "2022-09-08T19:29:46.900397Z",
     "shell.execute_reply": "2022-09-08T19:29:46.899572Z"
    },
    "papermill": {
     "duration": 0.034724,
     "end_time": "2022-09-08T19:29:46.902875",
     "exception": false,
     "start_time": "2022-09-08T19:29:46.868151",
     "status": "completed"
    },
    "tags": []
   },
   "outputs": [
    {
     "data": {
      "text/plain": [
       "2"
      ]
     },
     "execution_count": 26,
     "metadata": {},
     "output_type": "execute_result"
    }
   ],
   "source": [
    "A.ndim"
   ]
  },
  {
   "cell_type": "code",
   "execution_count": 27,
   "id": "ef247379",
   "metadata": {
    "execution": {
     "iopub.execute_input": "2022-09-08T19:29:46.952940Z",
     "iopub.status.busy": "2022-09-08T19:29:46.952629Z",
     "iopub.status.idle": "2022-09-08T19:29:46.958093Z",
     "shell.execute_reply": "2022-09-08T19:29:46.956917Z"
    },
    "papermill": {
     "duration": 0.033151,
     "end_time": "2022-09-08T19:29:46.960211",
     "exception": false,
     "start_time": "2022-09-08T19:29:46.927060",
     "status": "completed"
    },
    "tags": []
   },
   "outputs": [],
   "source": [
    "B = np.array([\n",
    "    [\n",
    "        [12,11,10],\n",
    "        [9,8,7],\n",
    "    ],\n",
    "    [\n",
    "        [6,5,4],\n",
    "        [3,2,1]\n",
    "    ]\n",
    "])"
   ]
  },
  {
   "cell_type": "code",
   "execution_count": 28,
   "id": "f34f5063",
   "metadata": {
    "execution": {
     "iopub.execute_input": "2022-09-08T19:29:47.010577Z",
     "iopub.status.busy": "2022-09-08T19:29:47.009973Z",
     "iopub.status.idle": "2022-09-08T19:29:47.014454Z",
     "shell.execute_reply": "2022-09-08T19:29:47.013930Z"
    },
    "papermill": {
     "duration": 0.03242,
     "end_time": "2022-09-08T19:29:47.016650",
     "exception": false,
     "start_time": "2022-09-08T19:29:46.984230",
     "status": "completed"
    },
    "tags": []
   },
   "outputs": [
    {
     "data": {
      "text/plain": [
       "array([[[12, 11, 10],\n",
       "        [ 9,  8,  7]],\n",
       "\n",
       "       [[ 6,  5,  4],\n",
       "        [ 3,  2,  1]]])"
      ]
     },
     "execution_count": 28,
     "metadata": {},
     "output_type": "execute_result"
    }
   ],
   "source": [
    "B"
   ]
  },
  {
   "cell_type": "code",
   "execution_count": 29,
   "id": "75098874",
   "metadata": {
    "execution": {
     "iopub.execute_input": "2022-09-08T19:29:47.066416Z",
     "iopub.status.busy": "2022-09-08T19:29:47.065902Z",
     "iopub.status.idle": "2022-09-08T19:29:47.070182Z",
     "shell.execute_reply": "2022-09-08T19:29:47.069652Z"
    },
    "papermill": {
     "duration": 0.030421,
     "end_time": "2022-09-08T19:29:47.071656",
     "exception": false,
     "start_time": "2022-09-08T19:29:47.041235",
     "status": "completed"
    },
    "tags": []
   },
   "outputs": [
    {
     "data": {
      "text/plain": [
       "(2, 2, 3)"
      ]
     },
     "execution_count": 29,
     "metadata": {},
     "output_type": "execute_result"
    }
   ],
   "source": [
    "B.shape"
   ]
  },
  {
   "cell_type": "code",
   "execution_count": 30,
   "id": "6198329e",
   "metadata": {
    "execution": {
     "iopub.execute_input": "2022-09-08T19:29:47.120618Z",
     "iopub.status.busy": "2022-09-08T19:29:47.120060Z",
     "iopub.status.idle": "2022-09-08T19:29:47.124376Z",
     "shell.execute_reply": "2022-09-08T19:29:47.123830Z"
    },
    "papermill": {
     "duration": 0.030547,
     "end_time": "2022-09-08T19:29:47.125881",
     "exception": false,
     "start_time": "2022-09-08T19:29:47.095334",
     "status": "completed"
    },
    "tags": []
   },
   "outputs": [
    {
     "data": {
      "text/plain": [
       "3"
      ]
     },
     "execution_count": 30,
     "metadata": {},
     "output_type": "execute_result"
    }
   ],
   "source": [
    "B.ndim"
   ]
  },
  {
   "cell_type": "code",
   "execution_count": 31,
   "id": "2c32cf5c",
   "metadata": {
    "execution": {
     "iopub.execute_input": "2022-09-08T19:29:47.174334Z",
     "iopub.status.busy": "2022-09-08T19:29:47.173778Z",
     "iopub.status.idle": "2022-09-08T19:29:47.178080Z",
     "shell.execute_reply": "2022-09-08T19:29:47.177513Z"
    },
    "papermill": {
     "duration": 0.030379,
     "end_time": "2022-09-08T19:29:47.179580",
     "exception": false,
     "start_time": "2022-09-08T19:29:47.149201",
     "status": "completed"
    },
    "tags": []
   },
   "outputs": [
    {
     "data": {
      "text/plain": [
       "12"
      ]
     },
     "execution_count": 31,
     "metadata": {},
     "output_type": "execute_result"
    }
   ],
   "source": [
    "B.size"
   ]
  },
  {
   "cell_type": "markdown",
   "id": "c75d39cf",
   "metadata": {
    "papermill": {
     "duration": 0.023138,
     "end_time": "2022-09-08T19:29:47.226301",
     "exception": false,
     "start_time": "2022-09-08T19:29:47.203163",
     "status": "completed"
    },
    "tags": []
   },
   "source": [
    "If the shape isn't consistent, it'll just fall back to regular Python objects:"
   ]
  },
  {
   "cell_type": "code",
   "execution_count": 32,
   "id": "fec8a6f2",
   "metadata": {
    "execution": {
     "iopub.execute_input": "2022-09-08T19:29:47.281252Z",
     "iopub.status.busy": "2022-09-08T19:29:47.280597Z",
     "iopub.status.idle": "2022-09-08T19:29:47.286571Z",
     "shell.execute_reply": "2022-09-08T19:29:47.284870Z"
    },
    "papermill": {
     "duration": 0.038651,
     "end_time": "2022-09-08T19:29:47.289205",
     "exception": false,
     "start_time": "2022-09-08T19:29:47.250554",
     "status": "completed"
    },
    "tags": []
   },
   "outputs": [
    {
     "name": "stderr",
     "output_type": "stream",
     "text": [
      "/opt/conda/lib/python3.7/site-packages/ipykernel_launcher.py:7: VisibleDeprecationWarning: Creating an ndarray from ragged nested sequences (which is a list-or-tuple of lists-or-tuples-or ndarrays with different lengths or shapes) is deprecated. If you meant to do this, you must specify 'dtype=object' when creating the ndarray.\n",
      "  import sys\n"
     ]
    }
   ],
   "source": [
    "C = np.array([\n",
    "    [\n",
    "        [12,11,10],\n",
    "        [9,8,7],\n",
    "    ],\n",
    "    [\n",
    "        [6,5,4]\n",
    "    ]\n",
    "])"
   ]
  },
  {
   "cell_type": "code",
   "execution_count": 33,
   "id": "b872a4a9",
   "metadata": {
    "execution": {
     "iopub.execute_input": "2022-09-08T19:29:47.353276Z",
     "iopub.status.busy": "2022-09-08T19:29:47.352942Z",
     "iopub.status.idle": "2022-09-08T19:29:47.359923Z",
     "shell.execute_reply": "2022-09-08T19:29:47.359175Z"
    },
    "papermill": {
     "duration": 0.040428,
     "end_time": "2022-09-08T19:29:47.361760",
     "exception": false,
     "start_time": "2022-09-08T19:29:47.321332",
     "status": "completed"
    },
    "tags": []
   },
   "outputs": [
    {
     "data": {
      "text/plain": [
       "dtype('O')"
      ]
     },
     "execution_count": 33,
     "metadata": {},
     "output_type": "execute_result"
    }
   ],
   "source": [
    "C.dtype"
   ]
  },
  {
   "cell_type": "code",
   "execution_count": 34,
   "id": "0eb8eeed",
   "metadata": {
    "execution": {
     "iopub.execute_input": "2022-09-08T19:29:47.414089Z",
     "iopub.status.busy": "2022-09-08T19:29:47.413743Z",
     "iopub.status.idle": "2022-09-08T19:29:47.422253Z",
     "shell.execute_reply": "2022-09-08T19:29:47.420431Z"
    },
    "papermill": {
     "duration": 0.038058,
     "end_time": "2022-09-08T19:29:47.425262",
     "exception": false,
     "start_time": "2022-09-08T19:29:47.387204",
     "status": "completed"
    },
    "tags": []
   },
   "outputs": [
    {
     "data": {
      "text/plain": [
       "(2,)"
      ]
     },
     "execution_count": 34,
     "metadata": {},
     "output_type": "execute_result"
    }
   ],
   "source": [
    "C.shape"
   ]
  },
  {
   "cell_type": "code",
   "execution_count": 35,
   "id": "9ff93023",
   "metadata": {
    "execution": {
     "iopub.execute_input": "2022-09-08T19:29:47.479760Z",
     "iopub.status.busy": "2022-09-08T19:29:47.479155Z",
     "iopub.status.idle": "2022-09-08T19:29:47.484099Z",
     "shell.execute_reply": "2022-09-08T19:29:47.483512Z"
    },
    "papermill": {
     "duration": 0.03528,
     "end_time": "2022-09-08T19:29:47.486387",
     "exception": false,
     "start_time": "2022-09-08T19:29:47.451107",
     "status": "completed"
    },
    "tags": []
   },
   "outputs": [
    {
     "data": {
      "text/plain": [
       "2"
      ]
     },
     "execution_count": 35,
     "metadata": {},
     "output_type": "execute_result"
    }
   ],
   "source": [
    "C.size"
   ]
  },
  {
   "cell_type": "code",
   "execution_count": 36,
   "id": "6abe00ee",
   "metadata": {
    "execution": {
     "iopub.execute_input": "2022-09-08T19:29:47.538960Z",
     "iopub.status.busy": "2022-09-08T19:29:47.537969Z",
     "iopub.status.idle": "2022-09-08T19:29:47.542806Z",
     "shell.execute_reply": "2022-09-08T19:29:47.542247Z"
    },
    "papermill": {
     "duration": 0.033328,
     "end_time": "2022-09-08T19:29:47.544847",
     "exception": false,
     "start_time": "2022-09-08T19:29:47.511519",
     "status": "completed"
    },
    "tags": []
   },
   "outputs": [
    {
     "data": {
      "text/plain": [
       "list"
      ]
     },
     "execution_count": 36,
     "metadata": {},
     "output_type": "execute_result"
    }
   ],
   "source": [
    "type(C[0])"
   ]
  },
  {
   "cell_type": "markdown",
   "id": "e2e6a5f1",
   "metadata": {
    "papermill": {
     "duration": 0.024563,
     "end_time": "2022-09-08T19:29:47.595511",
     "exception": false,
     "start_time": "2022-09-08T19:29:47.570948",
     "status": "completed"
    },
    "tags": []
   },
   "source": [
    "# **Indexing and Slicing of Matrices**"
   ]
  },
  {
   "cell_type": "code",
   "execution_count": 37,
   "id": "2efb6311",
   "metadata": {
    "execution": {
     "iopub.execute_input": "2022-09-08T19:29:47.647716Z",
     "iopub.status.busy": "2022-09-08T19:29:47.646638Z",
     "iopub.status.idle": "2022-09-08T19:29:47.651978Z",
     "shell.execute_reply": "2022-09-08T19:29:47.650728Z"
    },
    "papermill": {
     "duration": 0.033332,
     "end_time": "2022-09-08T19:29:47.653747",
     "exception": false,
     "start_time": "2022-09-08T19:29:47.620415",
     "status": "completed"
    },
    "tags": []
   },
   "outputs": [],
   "source": [
    "#square Matrix\n",
    "A = np.array([\n",
    "#.   0. 1. 2\n",
    "    [1, 2, 3], # 0\n",
    "    [4, 5, 6], # 1\n",
    "    [7, 8, 9]  # 2\n",
    "])"
   ]
  },
  {
   "cell_type": "code",
   "execution_count": 38,
   "id": "84b87da6",
   "metadata": {
    "execution": {
     "iopub.execute_input": "2022-09-08T19:29:47.705696Z",
     "iopub.status.busy": "2022-09-08T19:29:47.704265Z",
     "iopub.status.idle": "2022-09-08T19:29:47.711383Z",
     "shell.execute_reply": "2022-09-08T19:29:47.710800Z"
    },
    "papermill": {
     "duration": 0.034442,
     "end_time": "2022-09-08T19:29:47.713440",
     "exception": false,
     "start_time": "2022-09-08T19:29:47.678998",
     "status": "completed"
    },
    "tags": []
   },
   "outputs": [
    {
     "data": {
      "text/plain": [
       "array([4, 5, 6])"
      ]
     },
     "execution_count": 38,
     "metadata": {},
     "output_type": "execute_result"
    }
   ],
   "source": [
    "A[1]"
   ]
  },
  {
   "cell_type": "code",
   "execution_count": 39,
   "id": "e3fb14bf",
   "metadata": {
    "execution": {
     "iopub.execute_input": "2022-09-08T19:29:47.766295Z",
     "iopub.status.busy": "2022-09-08T19:29:47.765772Z",
     "iopub.status.idle": "2022-09-08T19:29:47.771515Z",
     "shell.execute_reply": "2022-09-08T19:29:47.770169Z"
    },
    "papermill": {
     "duration": 0.034824,
     "end_time": "2022-09-08T19:29:47.773831",
     "exception": false,
     "start_time": "2022-09-08T19:29:47.739007",
     "status": "completed"
    },
    "tags": []
   },
   "outputs": [
    {
     "data": {
      "text/plain": [
       "4"
      ]
     },
     "execution_count": 39,
     "metadata": {},
     "output_type": "execute_result"
    }
   ],
   "source": [
    "A[1][0]"
   ]
  },
  {
   "cell_type": "code",
   "execution_count": 40,
   "id": "6a5e2cc8",
   "metadata": {
    "execution": {
     "iopub.execute_input": "2022-09-08T19:29:47.827017Z",
     "iopub.status.busy": "2022-09-08T19:29:47.826359Z",
     "iopub.status.idle": "2022-09-08T19:29:47.830218Z",
     "shell.execute_reply": "2022-09-08T19:29:47.829257Z"
    },
    "papermill": {
     "duration": 0.033001,
     "end_time": "2022-09-08T19:29:47.832264",
     "exception": false,
     "start_time": "2022-09-08T19:29:47.799263",
     "status": "completed"
    },
    "tags": []
   },
   "outputs": [],
   "source": [
    "#A[d1,d2,d3,d4]"
   ]
  },
  {
   "cell_type": "code",
   "execution_count": 41,
   "id": "96ac90d7",
   "metadata": {
    "execution": {
     "iopub.execute_input": "2022-09-08T19:29:47.884052Z",
     "iopub.status.busy": "2022-09-08T19:29:47.883476Z",
     "iopub.status.idle": "2022-09-08T19:29:47.890062Z",
     "shell.execute_reply": "2022-09-08T19:29:47.889112Z"
    },
    "papermill": {
     "duration": 0.035006,
     "end_time": "2022-09-08T19:29:47.892091",
     "exception": false,
     "start_time": "2022-09-08T19:29:47.857085",
     "status": "completed"
    },
    "tags": []
   },
   "outputs": [
    {
     "data": {
      "text/plain": [
       "4"
      ]
     },
     "execution_count": 41,
     "metadata": {},
     "output_type": "execute_result"
    }
   ],
   "source": [
    "A[1,0]"
   ]
  },
  {
   "cell_type": "code",
   "execution_count": 42,
   "id": "3324ec0e",
   "metadata": {
    "execution": {
     "iopub.execute_input": "2022-09-08T19:29:47.946338Z",
     "iopub.status.busy": "2022-09-08T19:29:47.945830Z",
     "iopub.status.idle": "2022-09-08T19:29:47.952313Z",
     "shell.execute_reply": "2022-09-08T19:29:47.950952Z"
    },
    "papermill": {
     "duration": 0.035562,
     "end_time": "2022-09-08T19:29:47.954201",
     "exception": false,
     "start_time": "2022-09-08T19:29:47.918639",
     "status": "completed"
    },
    "tags": []
   },
   "outputs": [
    {
     "data": {
      "text/plain": [
       "array([[1, 2, 3],\n",
       "       [4, 5, 6]])"
      ]
     },
     "execution_count": 42,
     "metadata": {},
     "output_type": "execute_result"
    }
   ],
   "source": [
    "A[0:2]"
   ]
  },
  {
   "cell_type": "code",
   "execution_count": 43,
   "id": "51d09c3e",
   "metadata": {
    "execution": {
     "iopub.execute_input": "2022-09-08T19:29:48.007376Z",
     "iopub.status.busy": "2022-09-08T19:29:48.007040Z",
     "iopub.status.idle": "2022-09-08T19:29:48.013371Z",
     "shell.execute_reply": "2022-09-08T19:29:48.012398Z"
    },
    "papermill": {
     "duration": 0.035207,
     "end_time": "2022-09-08T19:29:48.015432",
     "exception": false,
     "start_time": "2022-09-08T19:29:47.980225",
     "status": "completed"
    },
    "tags": []
   },
   "outputs": [
    {
     "data": {
      "text/plain": [
       "array([[1, 2],\n",
       "       [4, 5],\n",
       "       [7, 8]])"
      ]
     },
     "execution_count": 43,
     "metadata": {},
     "output_type": "execute_result"
    }
   ],
   "source": [
    "A[:,:2]"
   ]
  },
  {
   "cell_type": "code",
   "execution_count": 44,
   "id": "e99719b9",
   "metadata": {
    "execution": {
     "iopub.execute_input": "2022-09-08T19:29:48.069491Z",
     "iopub.status.busy": "2022-09-08T19:29:48.068246Z",
     "iopub.status.idle": "2022-09-08T19:29:48.075056Z",
     "shell.execute_reply": "2022-09-08T19:29:48.074462Z"
    },
    "papermill": {
     "duration": 0.035548,
     "end_time": "2022-09-08T19:29:48.076645",
     "exception": false,
     "start_time": "2022-09-08T19:29:48.041097",
     "status": "completed"
    },
    "tags": []
   },
   "outputs": [
    {
     "data": {
      "text/plain": [
       "array([[1, 2],\n",
       "       [4, 5]])"
      ]
     },
     "execution_count": 44,
     "metadata": {},
     "output_type": "execute_result"
    }
   ],
   "source": [
    "A[:2,:2]"
   ]
  },
  {
   "cell_type": "code",
   "execution_count": 45,
   "id": "4a020687",
   "metadata": {
    "execution": {
     "iopub.execute_input": "2022-09-08T19:29:48.129952Z",
     "iopub.status.busy": "2022-09-08T19:29:48.128889Z",
     "iopub.status.idle": "2022-09-08T19:29:48.134763Z",
     "shell.execute_reply": "2022-09-08T19:29:48.134197Z"
    },
    "papermill": {
     "duration": 0.034215,
     "end_time": "2022-09-08T19:29:48.136318",
     "exception": false,
     "start_time": "2022-09-08T19:29:48.102103",
     "status": "completed"
    },
    "tags": []
   },
   "outputs": [
    {
     "data": {
      "text/plain": [
       "array([[3],\n",
       "       [6]])"
      ]
     },
     "execution_count": 45,
     "metadata": {},
     "output_type": "execute_result"
    }
   ],
   "source": [
    "A[:2,2:]"
   ]
  },
  {
   "cell_type": "code",
   "execution_count": 46,
   "id": "8c57af24",
   "metadata": {
    "execution": {
     "iopub.execute_input": "2022-09-08T19:29:48.189481Z",
     "iopub.status.busy": "2022-09-08T19:29:48.187963Z",
     "iopub.status.idle": "2022-09-08T19:29:48.195079Z",
     "shell.execute_reply": "2022-09-08T19:29:48.194311Z"
    },
    "papermill": {
     "duration": 0.034915,
     "end_time": "2022-09-08T19:29:48.196674",
     "exception": false,
     "start_time": "2022-09-08T19:29:48.161759",
     "status": "completed"
    },
    "tags": []
   },
   "outputs": [
    {
     "data": {
      "text/plain": [
       "array([[1, 2, 3],\n",
       "       [4, 5, 6],\n",
       "       [7, 8, 9]])"
      ]
     },
     "execution_count": 46,
     "metadata": {},
     "output_type": "execute_result"
    }
   ],
   "source": [
    "A"
   ]
  },
  {
   "cell_type": "code",
   "execution_count": 47,
   "id": "debf27c6",
   "metadata": {
    "execution": {
     "iopub.execute_input": "2022-09-08T19:29:48.250451Z",
     "iopub.status.busy": "2022-09-08T19:29:48.249954Z",
     "iopub.status.idle": "2022-09-08T19:29:48.253283Z",
     "shell.execute_reply": "2022-09-08T19:29:48.252737Z"
    },
    "papermill": {
     "duration": 0.031923,
     "end_time": "2022-09-08T19:29:48.254843",
     "exception": false,
     "start_time": "2022-09-08T19:29:48.222920",
     "status": "completed"
    },
    "tags": []
   },
   "outputs": [],
   "source": [
    "A[1]=np.array([10,10,10])"
   ]
  },
  {
   "cell_type": "code",
   "execution_count": 48,
   "id": "75e16969",
   "metadata": {
    "execution": {
     "iopub.execute_input": "2022-09-08T19:29:48.309462Z",
     "iopub.status.busy": "2022-09-08T19:29:48.309003Z",
     "iopub.status.idle": "2022-09-08T19:29:48.314565Z",
     "shell.execute_reply": "2022-09-08T19:29:48.313201Z"
    },
    "papermill": {
     "duration": 0.036988,
     "end_time": "2022-09-08T19:29:48.317353",
     "exception": false,
     "start_time": "2022-09-08T19:29:48.280365",
     "status": "completed"
    },
    "tags": []
   },
   "outputs": [
    {
     "data": {
      "text/plain": [
       "array([[ 1,  2,  3],\n",
       "       [10, 10, 10],\n",
       "       [ 7,  8,  9]])"
      ]
     },
     "execution_count": 48,
     "metadata": {},
     "output_type": "execute_result"
    }
   ],
   "source": [
    "A"
   ]
  },
  {
   "cell_type": "code",
   "execution_count": 49,
   "id": "01ba8edc",
   "metadata": {
    "execution": {
     "iopub.execute_input": "2022-09-08T19:29:48.376435Z",
     "iopub.status.busy": "2022-09-08T19:29:48.375470Z",
     "iopub.status.idle": "2022-09-08T19:29:48.379733Z",
     "shell.execute_reply": "2022-09-08T19:29:48.378903Z"
    },
    "papermill": {
     "duration": 0.035587,
     "end_time": "2022-09-08T19:29:48.381909",
     "exception": false,
     "start_time": "2022-09-08T19:29:48.346322",
     "status": "completed"
    },
    "tags": []
   },
   "outputs": [],
   "source": [
    "A[2]=99"
   ]
  },
  {
   "cell_type": "code",
   "execution_count": 50,
   "id": "176c902f",
   "metadata": {
    "execution": {
     "iopub.execute_input": "2022-09-08T19:29:48.438738Z",
     "iopub.status.busy": "2022-09-08T19:29:48.438144Z",
     "iopub.status.idle": "2022-09-08T19:29:48.445617Z",
     "shell.execute_reply": "2022-09-08T19:29:48.443686Z"
    },
    "papermill": {
     "duration": 0.038991,
     "end_time": "2022-09-08T19:29:48.448446",
     "exception": false,
     "start_time": "2022-09-08T19:29:48.409455",
     "status": "completed"
    },
    "tags": []
   },
   "outputs": [
    {
     "data": {
      "text/plain": [
       "array([[ 1,  2,  3],\n",
       "       [10, 10, 10],\n",
       "       [99, 99, 99]])"
      ]
     },
     "execution_count": 50,
     "metadata": {},
     "output_type": "execute_result"
    }
   ],
   "source": [
    "A"
   ]
  },
  {
   "cell_type": "markdown",
   "id": "5b2a5b0e",
   "metadata": {
    "papermill": {
     "duration": 0.02756,
     "end_time": "2022-09-08T19:29:48.503881",
     "exception": false,
     "start_time": "2022-09-08T19:29:48.476321",
     "status": "completed"
    },
    "tags": []
   },
   "source": [
    "# **Summary Statistics**"
   ]
  },
  {
   "cell_type": "code",
   "execution_count": 51,
   "id": "25093b88",
   "metadata": {
    "execution": {
     "iopub.execute_input": "2022-09-08T19:29:48.561045Z",
     "iopub.status.busy": "2022-09-08T19:29:48.560056Z",
     "iopub.status.idle": "2022-09-08T19:29:48.566764Z",
     "shell.execute_reply": "2022-09-08T19:29:48.565111Z"
    },
    "papermill": {
     "duration": 0.037625,
     "end_time": "2022-09-08T19:29:48.569263",
     "exception": false,
     "start_time": "2022-09-08T19:29:48.531638",
     "status": "completed"
    },
    "tags": []
   },
   "outputs": [],
   "source": [
    "a = np.array([1,2,3,4])"
   ]
  },
  {
   "cell_type": "code",
   "execution_count": 52,
   "id": "c46e9898",
   "metadata": {
    "execution": {
     "iopub.execute_input": "2022-09-08T19:29:48.626455Z",
     "iopub.status.busy": "2022-09-08T19:29:48.626090Z",
     "iopub.status.idle": "2022-09-08T19:29:48.631962Z",
     "shell.execute_reply": "2022-09-08T19:29:48.631117Z"
    },
    "papermill": {
     "duration": 0.036507,
     "end_time": "2022-09-08T19:29:48.633546",
     "exception": false,
     "start_time": "2022-09-08T19:29:48.597039",
     "status": "completed"
    },
    "tags": []
   },
   "outputs": [
    {
     "data": {
      "text/plain": [
       "10"
      ]
     },
     "execution_count": 52,
     "metadata": {},
     "output_type": "execute_result"
    }
   ],
   "source": [
    "a.sum()"
   ]
  },
  {
   "cell_type": "code",
   "execution_count": 53,
   "id": "59c71fb9",
   "metadata": {
    "execution": {
     "iopub.execute_input": "2022-09-08T19:29:48.687867Z",
     "iopub.status.busy": "2022-09-08T19:29:48.687585Z",
     "iopub.status.idle": "2022-09-08T19:29:48.693200Z",
     "shell.execute_reply": "2022-09-08T19:29:48.692295Z"
    },
    "papermill": {
     "duration": 0.034264,
     "end_time": "2022-09-08T19:29:48.694878",
     "exception": false,
     "start_time": "2022-09-08T19:29:48.660614",
     "status": "completed"
    },
    "tags": []
   },
   "outputs": [
    {
     "data": {
      "text/plain": [
       "2.5"
      ]
     },
     "execution_count": 53,
     "metadata": {},
     "output_type": "execute_result"
    }
   ],
   "source": [
    "a.mean()"
   ]
  },
  {
   "cell_type": "code",
   "execution_count": 54,
   "id": "99339858",
   "metadata": {
    "execution": {
     "iopub.execute_input": "2022-09-08T19:29:48.749004Z",
     "iopub.status.busy": "2022-09-08T19:29:48.748416Z",
     "iopub.status.idle": "2022-09-08T19:29:48.754241Z",
     "shell.execute_reply": "2022-09-08T19:29:48.753661Z"
    },
    "papermill": {
     "duration": 0.034646,
     "end_time": "2022-09-08T19:29:48.755712",
     "exception": false,
     "start_time": "2022-09-08T19:29:48.721066",
     "status": "completed"
    },
    "tags": []
   },
   "outputs": [
    {
     "data": {
      "text/plain": [
       "1.118033988749895"
      ]
     },
     "execution_count": 54,
     "metadata": {},
     "output_type": "execute_result"
    }
   ],
   "source": [
    "a.std()"
   ]
  },
  {
   "cell_type": "code",
   "execution_count": 55,
   "id": "39896d53",
   "metadata": {
    "execution": {
     "iopub.execute_input": "2022-09-08T19:29:48.812583Z",
     "iopub.status.busy": "2022-09-08T19:29:48.812215Z",
     "iopub.status.idle": "2022-09-08T19:29:48.819045Z",
     "shell.execute_reply": "2022-09-08T19:29:48.817649Z"
    },
    "papermill": {
     "duration": 0.036902,
     "end_time": "2022-09-08T19:29:48.820751",
     "exception": false,
     "start_time": "2022-09-08T19:29:48.783849",
     "status": "completed"
    },
    "tags": []
   },
   "outputs": [
    {
     "data": {
      "text/plain": [
       "1.25"
      ]
     },
     "execution_count": 55,
     "metadata": {},
     "output_type": "execute_result"
    }
   ],
   "source": [
    "a.var()"
   ]
  },
  {
   "cell_type": "code",
   "execution_count": 56,
   "id": "22dfffb4",
   "metadata": {
    "execution": {
     "iopub.execute_input": "2022-09-08T19:29:48.875351Z",
     "iopub.status.busy": "2022-09-08T19:29:48.875020Z",
     "iopub.status.idle": "2022-09-08T19:29:48.879215Z",
     "shell.execute_reply": "2022-09-08T19:29:48.878419Z"
    },
    "papermill": {
     "duration": 0.033373,
     "end_time": "2022-09-08T19:29:48.880963",
     "exception": false,
     "start_time": "2022-09-08T19:29:48.847590",
     "status": "completed"
    },
    "tags": []
   },
   "outputs": [],
   "source": [
    "A = np.array([\n",
    "    [1,2,3],\n",
    "    [4,5,6],\n",
    "    [7,8,9]\n",
    "])"
   ]
  },
  {
   "cell_type": "code",
   "execution_count": 57,
   "id": "7d71875a",
   "metadata": {
    "execution": {
     "iopub.execute_input": "2022-09-08T19:29:48.936397Z",
     "iopub.status.busy": "2022-09-08T19:29:48.935416Z",
     "iopub.status.idle": "2022-09-08T19:29:48.942453Z",
     "shell.execute_reply": "2022-09-08T19:29:48.941802Z"
    },
    "papermill": {
     "duration": 0.036468,
     "end_time": "2022-09-08T19:29:48.943988",
     "exception": false,
     "start_time": "2022-09-08T19:29:48.907520",
     "status": "completed"
    },
    "tags": []
   },
   "outputs": [
    {
     "data": {
      "text/plain": [
       "45"
      ]
     },
     "execution_count": 57,
     "metadata": {},
     "output_type": "execute_result"
    }
   ],
   "source": [
    "A.sum()"
   ]
  },
  {
   "cell_type": "code",
   "execution_count": 58,
   "id": "aad01f38",
   "metadata": {
    "execution": {
     "iopub.execute_input": "2022-09-08T19:29:49.000830Z",
     "iopub.status.busy": "2022-09-08T19:29:49.000313Z",
     "iopub.status.idle": "2022-09-08T19:29:49.005875Z",
     "shell.execute_reply": "2022-09-08T19:29:49.004713Z"
    },
    "papermill": {
     "duration": 0.036025,
     "end_time": "2022-09-08T19:29:49.007363",
     "exception": false,
     "start_time": "2022-09-08T19:29:48.971338",
     "status": "completed"
    },
    "tags": []
   },
   "outputs": [
    {
     "data": {
      "text/plain": [
       "5.0"
      ]
     },
     "execution_count": 58,
     "metadata": {},
     "output_type": "execute_result"
    }
   ],
   "source": [
    "A.mean()"
   ]
  },
  {
   "cell_type": "code",
   "execution_count": 59,
   "id": "7f69aa17",
   "metadata": {
    "execution": {
     "iopub.execute_input": "2022-09-08T19:29:49.062803Z",
     "iopub.status.busy": "2022-09-08T19:29:49.061449Z",
     "iopub.status.idle": "2022-09-08T19:29:49.067894Z",
     "shell.execute_reply": "2022-09-08T19:29:49.067009Z"
    },
    "papermill": {
     "duration": 0.035591,
     "end_time": "2022-09-08T19:29:49.069562",
     "exception": false,
     "start_time": "2022-09-08T19:29:49.033971",
     "status": "completed"
    },
    "tags": []
   },
   "outputs": [
    {
     "data": {
      "text/plain": [
       "2.581988897471611"
      ]
     },
     "execution_count": 59,
     "metadata": {},
     "output_type": "execute_result"
    }
   ],
   "source": [
    "A.std()"
   ]
  },
  {
   "cell_type": "code",
   "execution_count": 60,
   "id": "518e0652",
   "metadata": {
    "execution": {
     "iopub.execute_input": "2022-09-08T19:29:49.126395Z",
     "iopub.status.busy": "2022-09-08T19:29:49.125888Z",
     "iopub.status.idle": "2022-09-08T19:29:49.131407Z",
     "shell.execute_reply": "2022-09-08T19:29:49.130581Z"
    },
    "papermill": {
     "duration": 0.036984,
     "end_time": "2022-09-08T19:29:49.133007",
     "exception": false,
     "start_time": "2022-09-08T19:29:49.096023",
     "status": "completed"
    },
    "tags": []
   },
   "outputs": [
    {
     "data": {
      "text/plain": [
       "array([12, 15, 18])"
      ]
     },
     "execution_count": 60,
     "metadata": {},
     "output_type": "execute_result"
    }
   ],
   "source": [
    "A.sum(axis=0)\n",
    "# sum by the columns"
   ]
  },
  {
   "cell_type": "code",
   "execution_count": 61,
   "id": "654dc94e",
   "metadata": {
    "execution": {
     "iopub.execute_input": "2022-09-08T19:29:49.187664Z",
     "iopub.status.busy": "2022-09-08T19:29:49.187343Z",
     "iopub.status.idle": "2022-09-08T19:29:49.193823Z",
     "shell.execute_reply": "2022-09-08T19:29:49.192311Z"
    },
    "papermill": {
     "duration": 0.036345,
     "end_time": "2022-09-08T19:29:49.195975",
     "exception": false,
     "start_time": "2022-09-08T19:29:49.159630",
     "status": "completed"
    },
    "tags": []
   },
   "outputs": [
    {
     "data": {
      "text/plain": [
       "array([ 6, 15, 24])"
      ]
     },
     "execution_count": 61,
     "metadata": {},
     "output_type": "execute_result"
    }
   ],
   "source": [
    "A.sum(axis=1)\n",
    "#sum by the rows"
   ]
  },
  {
   "cell_type": "code",
   "execution_count": 62,
   "id": "6dc331fd",
   "metadata": {
    "execution": {
     "iopub.execute_input": "2022-09-08T19:29:49.253640Z",
     "iopub.status.busy": "2022-09-08T19:29:49.253330Z",
     "iopub.status.idle": "2022-09-08T19:29:49.259300Z",
     "shell.execute_reply": "2022-09-08T19:29:49.258244Z"
    },
    "papermill": {
     "duration": 0.037884,
     "end_time": "2022-09-08T19:29:49.261713",
     "exception": false,
     "start_time": "2022-09-08T19:29:49.223829",
     "status": "completed"
    },
    "tags": []
   },
   "outputs": [
    {
     "data": {
      "text/plain": [
       "array([4., 5., 6.])"
      ]
     },
     "execution_count": 62,
     "metadata": {},
     "output_type": "execute_result"
    }
   ],
   "source": [
    "A.mean(axis = 0)"
   ]
  },
  {
   "cell_type": "code",
   "execution_count": 63,
   "id": "f88dfc6c",
   "metadata": {
    "execution": {
     "iopub.execute_input": "2022-09-08T19:29:49.318267Z",
     "iopub.status.busy": "2022-09-08T19:29:49.317951Z",
     "iopub.status.idle": "2022-09-08T19:29:49.325506Z",
     "shell.execute_reply": "2022-09-08T19:29:49.323855Z"
    },
    "papermill": {
     "duration": 0.037907,
     "end_time": "2022-09-08T19:29:49.327346",
     "exception": false,
     "start_time": "2022-09-08T19:29:49.289439",
     "status": "completed"
    },
    "tags": []
   },
   "outputs": [
    {
     "data": {
      "text/plain": [
       "array([2., 5., 8.])"
      ]
     },
     "execution_count": 63,
     "metadata": {},
     "output_type": "execute_result"
    }
   ],
   "source": [
    "A.mean(axis = 1)"
   ]
  },
  {
   "cell_type": "code",
   "execution_count": 64,
   "id": "1a0016ef",
   "metadata": {
    "execution": {
     "iopub.execute_input": "2022-09-08T19:29:49.384373Z",
     "iopub.status.busy": "2022-09-08T19:29:49.384027Z",
     "iopub.status.idle": "2022-09-08T19:29:49.390287Z",
     "shell.execute_reply": "2022-09-08T19:29:49.388878Z"
    },
    "papermill": {
     "duration": 0.036911,
     "end_time": "2022-09-08T19:29:49.392250",
     "exception": false,
     "start_time": "2022-09-08T19:29:49.355339",
     "status": "completed"
    },
    "tags": []
   },
   "outputs": [
    {
     "data": {
      "text/plain": [
       "array([2.44948974, 2.44948974, 2.44948974])"
      ]
     },
     "execution_count": 64,
     "metadata": {},
     "output_type": "execute_result"
    }
   ],
   "source": [
    "A.std(axis = 0)"
   ]
  },
  {
   "cell_type": "code",
   "execution_count": 65,
   "id": "fb154446",
   "metadata": {
    "execution": {
     "iopub.execute_input": "2022-09-08T19:29:49.450370Z",
     "iopub.status.busy": "2022-09-08T19:29:49.450046Z",
     "iopub.status.idle": "2022-09-08T19:29:49.456673Z",
     "shell.execute_reply": "2022-09-08T19:29:49.455592Z"
    },
    "papermill": {
     "duration": 0.037786,
     "end_time": "2022-09-08T19:29:49.458256",
     "exception": false,
     "start_time": "2022-09-08T19:29:49.420470",
     "status": "completed"
    },
    "tags": []
   },
   "outputs": [
    {
     "data": {
      "text/plain": [
       "array([0.81649658, 0.81649658, 0.81649658])"
      ]
     },
     "execution_count": 65,
     "metadata": {},
     "output_type": "execute_result"
    }
   ],
   "source": [
    "A.std(axis =1)"
   ]
  },
  {
   "cell_type": "markdown",
   "id": "47bc98da",
   "metadata": {
    "papermill": {
     "duration": 0.02887,
     "end_time": "2022-09-08T19:29:49.516688",
     "exception": false,
     "start_time": "2022-09-08T19:29:49.487818",
     "status": "completed"
    },
    "tags": []
   },
   "source": [
    "# **Broadcasting and Vectorized operations**"
   ]
  },
  {
   "cell_type": "code",
   "execution_count": 66,
   "id": "888d2c8b",
   "metadata": {
    "execution": {
     "iopub.execute_input": "2022-09-08T19:29:49.576299Z",
     "iopub.status.busy": "2022-09-08T19:29:49.575981Z",
     "iopub.status.idle": "2022-09-08T19:29:49.579476Z",
     "shell.execute_reply": "2022-09-08T19:29:49.578951Z"
    },
    "papermill": {
     "duration": 0.035006,
     "end_time": "2022-09-08T19:29:49.581723",
     "exception": false,
     "start_time": "2022-09-08T19:29:49.546717",
     "status": "completed"
    },
    "tags": []
   },
   "outputs": [],
   "source": [
    "a = np.arange(4)"
   ]
  },
  {
   "cell_type": "code",
   "execution_count": 67,
   "id": "7c9265df",
   "metadata": {
    "execution": {
     "iopub.execute_input": "2022-09-08T19:29:49.639592Z",
     "iopub.status.busy": "2022-09-08T19:29:49.639274Z",
     "iopub.status.idle": "2022-09-08T19:29:49.644375Z",
     "shell.execute_reply": "2022-09-08T19:29:49.643373Z"
    },
    "papermill": {
     "duration": 0.036008,
     "end_time": "2022-09-08T19:29:49.646128",
     "exception": false,
     "start_time": "2022-09-08T19:29:49.610120",
     "status": "completed"
    },
    "tags": []
   },
   "outputs": [
    {
     "data": {
      "text/plain": [
       "array([0, 1, 2, 3])"
      ]
     },
     "execution_count": 67,
     "metadata": {},
     "output_type": "execute_result"
    }
   ],
   "source": [
    "a"
   ]
  },
  {
   "cell_type": "code",
   "execution_count": 68,
   "id": "5eebab9e",
   "metadata": {
    "execution": {
     "iopub.execute_input": "2022-09-08T19:29:49.704704Z",
     "iopub.status.busy": "2022-09-08T19:29:49.704381Z",
     "iopub.status.idle": "2022-09-08T19:29:49.710073Z",
     "shell.execute_reply": "2022-09-08T19:29:49.709439Z"
    },
    "papermill": {
     "duration": 0.037127,
     "end_time": "2022-09-08T19:29:49.711713",
     "exception": false,
     "start_time": "2022-09-08T19:29:49.674586",
     "status": "completed"
    },
    "tags": []
   },
   "outputs": [
    {
     "data": {
      "text/plain": [
       "array([10, 11, 12, 13])"
      ]
     },
     "execution_count": 68,
     "metadata": {},
     "output_type": "execute_result"
    }
   ],
   "source": [
    "a + 10"
   ]
  },
  {
   "cell_type": "code",
   "execution_count": 69,
   "id": "f3c3c5ff",
   "metadata": {
    "execution": {
     "iopub.execute_input": "2022-09-08T19:29:49.768564Z",
     "iopub.status.busy": "2022-09-08T19:29:49.768249Z",
     "iopub.status.idle": "2022-09-08T19:29:49.773673Z",
     "shell.execute_reply": "2022-09-08T19:29:49.773077Z"
    },
    "papermill": {
     "duration": 0.035609,
     "end_time": "2022-09-08T19:29:49.775172",
     "exception": false,
     "start_time": "2022-09-08T19:29:49.739563",
     "status": "completed"
    },
    "tags": []
   },
   "outputs": [
    {
     "data": {
      "text/plain": [
       "array([ 0, 10, 20, 30])"
      ]
     },
     "execution_count": 69,
     "metadata": {},
     "output_type": "execute_result"
    }
   ],
   "source": [
    "a * 10"
   ]
  },
  {
   "cell_type": "code",
   "execution_count": 70,
   "id": "ee3f4e78",
   "metadata": {
    "execution": {
     "iopub.execute_input": "2022-09-08T19:29:49.834140Z",
     "iopub.status.busy": "2022-09-08T19:29:49.833836Z",
     "iopub.status.idle": "2022-09-08T19:29:49.839564Z",
     "shell.execute_reply": "2022-09-08T19:29:49.838793Z"
    },
    "papermill": {
     "duration": 0.038534,
     "end_time": "2022-09-08T19:29:49.841214",
     "exception": false,
     "start_time": "2022-09-08T19:29:49.802680",
     "status": "completed"
    },
    "tags": []
   },
   "outputs": [
    {
     "data": {
      "text/plain": [
       "array([0, 1, 2, 3])"
      ]
     },
     "execution_count": 70,
     "metadata": {},
     "output_type": "execute_result"
    }
   ],
   "source": [
    "a"
   ]
  },
  {
   "cell_type": "code",
   "execution_count": 71,
   "id": "8f5b0609",
   "metadata": {
    "execution": {
     "iopub.execute_input": "2022-09-08T19:29:49.901919Z",
     "iopub.status.busy": "2022-09-08T19:29:49.901620Z",
     "iopub.status.idle": "2022-09-08T19:29:49.907046Z",
     "shell.execute_reply": "2022-09-08T19:29:49.905831Z"
    },
    "papermill": {
     "duration": 0.038576,
     "end_time": "2022-09-08T19:29:49.909363",
     "exception": false,
     "start_time": "2022-09-08T19:29:49.870787",
     "status": "completed"
    },
    "tags": []
   },
   "outputs": [],
   "source": [
    "a +=100"
   ]
  },
  {
   "cell_type": "code",
   "execution_count": 72,
   "id": "44b46ae3",
   "metadata": {
    "execution": {
     "iopub.execute_input": "2022-09-08T19:29:49.970798Z",
     "iopub.status.busy": "2022-09-08T19:29:49.970352Z",
     "iopub.status.idle": "2022-09-08T19:29:49.976331Z",
     "shell.execute_reply": "2022-09-08T19:29:49.975481Z"
    },
    "papermill": {
     "duration": 0.038779,
     "end_time": "2022-09-08T19:29:49.978065",
     "exception": false,
     "start_time": "2022-09-08T19:29:49.939286",
     "status": "completed"
    },
    "tags": []
   },
   "outputs": [
    {
     "data": {
      "text/plain": [
       "array([100, 101, 102, 103])"
      ]
     },
     "execution_count": 72,
     "metadata": {},
     "output_type": "execute_result"
    }
   ],
   "source": [
    "a"
   ]
  },
  {
   "cell_type": "code",
   "execution_count": 73,
   "id": "5b166435",
   "metadata": {
    "execution": {
     "iopub.execute_input": "2022-09-08T19:29:50.038261Z",
     "iopub.status.busy": "2022-09-08T19:29:50.037963Z",
     "iopub.status.idle": "2022-09-08T19:29:50.042310Z",
     "shell.execute_reply": "2022-09-08T19:29:50.041581Z"
    },
    "papermill": {
     "duration": 0.036686,
     "end_time": "2022-09-08T19:29:50.044078",
     "exception": false,
     "start_time": "2022-09-08T19:29:50.007392",
     "status": "completed"
    },
    "tags": []
   },
   "outputs": [],
   "source": [
    "l =[0,1,2,3]"
   ]
  },
  {
   "cell_type": "code",
   "execution_count": 74,
   "id": "ea455df4",
   "metadata": {
    "execution": {
     "iopub.execute_input": "2022-09-08T19:29:50.103900Z",
     "iopub.status.busy": "2022-09-08T19:29:50.103607Z",
     "iopub.status.idle": "2022-09-08T19:29:50.110288Z",
     "shell.execute_reply": "2022-09-08T19:29:50.109465Z"
    },
    "papermill": {
     "duration": 0.03982,
     "end_time": "2022-09-08T19:29:50.113085",
     "exception": false,
     "start_time": "2022-09-08T19:29:50.073265",
     "status": "completed"
    },
    "tags": []
   },
   "outputs": [
    {
     "data": {
      "text/plain": [
       "[0, 10, 20, 30]"
      ]
     },
     "execution_count": 74,
     "metadata": {},
     "output_type": "execute_result"
    }
   ],
   "source": [
    "[i * 10 for i in l]"
   ]
  },
  {
   "cell_type": "code",
   "execution_count": 75,
   "id": "93b7fed4",
   "metadata": {
    "execution": {
     "iopub.execute_input": "2022-09-08T19:29:50.174460Z",
     "iopub.status.busy": "2022-09-08T19:29:50.174130Z",
     "iopub.status.idle": "2022-09-08T19:29:50.178347Z",
     "shell.execute_reply": "2022-09-08T19:29:50.177436Z"
    },
    "papermill": {
     "duration": 0.037098,
     "end_time": "2022-09-08T19:29:50.180036",
     "exception": false,
     "start_time": "2022-09-08T19:29:50.142938",
     "status": "completed"
    },
    "tags": []
   },
   "outputs": [],
   "source": [
    "a = np.arange(4)"
   ]
  },
  {
   "cell_type": "code",
   "execution_count": 76,
   "id": "0eddd4cc",
   "metadata": {
    "execution": {
     "iopub.execute_input": "2022-09-08T19:29:50.241547Z",
     "iopub.status.busy": "2022-09-08T19:29:50.241253Z",
     "iopub.status.idle": "2022-09-08T19:29:50.246561Z",
     "shell.execute_reply": "2022-09-08T19:29:50.245757Z"
    },
    "papermill": {
     "duration": 0.038206,
     "end_time": "2022-09-08T19:29:50.248193",
     "exception": false,
     "start_time": "2022-09-08T19:29:50.209987",
     "status": "completed"
    },
    "tags": []
   },
   "outputs": [
    {
     "data": {
      "text/plain": [
       "array([0, 1, 2, 3])"
      ]
     },
     "execution_count": 76,
     "metadata": {},
     "output_type": "execute_result"
    }
   ],
   "source": [
    "a"
   ]
  },
  {
   "cell_type": "code",
   "execution_count": 77,
   "id": "002b06e3",
   "metadata": {
    "execution": {
     "iopub.execute_input": "2022-09-08T19:29:50.310320Z",
     "iopub.status.busy": "2022-09-08T19:29:50.309712Z",
     "iopub.status.idle": "2022-09-08T19:29:50.313886Z",
     "shell.execute_reply": "2022-09-08T19:29:50.313233Z"
    },
    "papermill": {
     "duration": 0.037435,
     "end_time": "2022-09-08T19:29:50.315593",
     "exception": false,
     "start_time": "2022-09-08T19:29:50.278158",
     "status": "completed"
    },
    "tags": []
   },
   "outputs": [],
   "source": [
    "b = np.array([10,10,10,10])"
   ]
  },
  {
   "cell_type": "code",
   "execution_count": 78,
   "id": "6c33c21e",
   "metadata": {
    "execution": {
     "iopub.execute_input": "2022-09-08T19:29:50.382972Z",
     "iopub.status.busy": "2022-09-08T19:29:50.382646Z",
     "iopub.status.idle": "2022-09-08T19:29:50.387303Z",
     "shell.execute_reply": "2022-09-08T19:29:50.386753Z"
    },
    "papermill": {
     "duration": 0.041421,
     "end_time": "2022-09-08T19:29:50.389004",
     "exception": false,
     "start_time": "2022-09-08T19:29:50.347583",
     "status": "completed"
    },
    "tags": []
   },
   "outputs": [
    {
     "data": {
      "text/plain": [
       "array([10, 10, 10, 10])"
      ]
     },
     "execution_count": 78,
     "metadata": {},
     "output_type": "execute_result"
    }
   ],
   "source": [
    "b"
   ]
  },
  {
   "cell_type": "code",
   "execution_count": 79,
   "id": "bd26a8d4",
   "metadata": {
    "execution": {
     "iopub.execute_input": "2022-09-08T19:29:50.451593Z",
     "iopub.status.busy": "2022-09-08T19:29:50.450983Z",
     "iopub.status.idle": "2022-09-08T19:29:50.456514Z",
     "shell.execute_reply": "2022-09-08T19:29:50.455548Z"
    },
    "papermill": {
     "duration": 0.03929,
     "end_time": "2022-09-08T19:29:50.458396",
     "exception": false,
     "start_time": "2022-09-08T19:29:50.419106",
     "status": "completed"
    },
    "tags": []
   },
   "outputs": [
    {
     "data": {
      "text/plain": [
       "array([10, 11, 12, 13])"
      ]
     },
     "execution_count": 79,
     "metadata": {},
     "output_type": "execute_result"
    }
   ],
   "source": [
    "a + b"
   ]
  },
  {
   "cell_type": "code",
   "execution_count": 80,
   "id": "5233d0be",
   "metadata": {
    "execution": {
     "iopub.execute_input": "2022-09-08T19:29:50.523488Z",
     "iopub.status.busy": "2022-09-08T19:29:50.522935Z",
     "iopub.status.idle": "2022-09-08T19:29:50.528630Z",
     "shell.execute_reply": "2022-09-08T19:29:50.527847Z"
    },
    "papermill": {
     "duration": 0.040136,
     "end_time": "2022-09-08T19:29:50.530604",
     "exception": false,
     "start_time": "2022-09-08T19:29:50.490468",
     "status": "completed"
    },
    "tags": []
   },
   "outputs": [
    {
     "data": {
      "text/plain": [
       "array([ 0, 10, 20, 30])"
      ]
     },
     "execution_count": 80,
     "metadata": {},
     "output_type": "execute_result"
    }
   ],
   "source": [
    "a * b"
   ]
  },
  {
   "cell_type": "markdown",
   "id": "8df4a060",
   "metadata": {
    "papermill": {
     "duration": 0.032049,
     "end_time": "2022-09-08T19:29:50.593794",
     "exception": false,
     "start_time": "2022-09-08T19:29:50.561745",
     "status": "completed"
    },
    "tags": []
   },
   "source": [
    "# **Boolean Arrays**"
   ]
  },
  {
   "cell_type": "code",
   "execution_count": 81,
   "id": "c6ccdd76",
   "metadata": {
    "execution": {
     "iopub.execute_input": "2022-09-08T19:29:50.658985Z",
     "iopub.status.busy": "2022-09-08T19:29:50.658234Z",
     "iopub.status.idle": "2022-09-08T19:29:50.663189Z",
     "shell.execute_reply": "2022-09-08T19:29:50.662198Z"
    },
    "papermill": {
     "duration": 0.040057,
     "end_time": "2022-09-08T19:29:50.665238",
     "exception": false,
     "start_time": "2022-09-08T19:29:50.625181",
     "status": "completed"
    },
    "tags": []
   },
   "outputs": [],
   "source": [
    "a = np.arange(4)"
   ]
  },
  {
   "cell_type": "code",
   "execution_count": 82,
   "id": "3eaf2d2f",
   "metadata": {
    "execution": {
     "iopub.execute_input": "2022-09-08T19:29:50.730618Z",
     "iopub.status.busy": "2022-09-08T19:29:50.730060Z",
     "iopub.status.idle": "2022-09-08T19:29:50.735064Z",
     "shell.execute_reply": "2022-09-08T19:29:50.734153Z"
    },
    "papermill": {
     "duration": 0.03999,
     "end_time": "2022-09-08T19:29:50.737324",
     "exception": false,
     "start_time": "2022-09-08T19:29:50.697334",
     "status": "completed"
    },
    "tags": []
   },
   "outputs": [
    {
     "data": {
      "text/plain": [
       "array([0, 1, 2, 3])"
      ]
     },
     "execution_count": 82,
     "metadata": {},
     "output_type": "execute_result"
    }
   ],
   "source": [
    "a"
   ]
  },
  {
   "cell_type": "code",
   "execution_count": 83,
   "id": "74f6999c",
   "metadata": {
    "execution": {
     "iopub.execute_input": "2022-09-08T19:29:50.801113Z",
     "iopub.status.busy": "2022-09-08T19:29:50.800578Z",
     "iopub.status.idle": "2022-09-08T19:29:50.806461Z",
     "shell.execute_reply": "2022-09-08T19:29:50.805711Z"
    },
    "papermill": {
     "duration": 0.039643,
     "end_time": "2022-09-08T19:29:50.808285",
     "exception": false,
     "start_time": "2022-09-08T19:29:50.768642",
     "status": "completed"
    },
    "tags": []
   },
   "outputs": [
    {
     "data": {
      "text/plain": [
       "(0, 3)"
      ]
     },
     "execution_count": 83,
     "metadata": {},
     "output_type": "execute_result"
    }
   ],
   "source": [
    "a[0] , a[-1]"
   ]
  },
  {
   "cell_type": "code",
   "execution_count": 84,
   "id": "0d266f03",
   "metadata": {
    "execution": {
     "iopub.execute_input": "2022-09-08T19:29:50.872761Z",
     "iopub.status.busy": "2022-09-08T19:29:50.872077Z",
     "iopub.status.idle": "2022-09-08T19:29:50.877467Z",
     "shell.execute_reply": "2022-09-08T19:29:50.876821Z"
    },
    "papermill": {
     "duration": 0.038324,
     "end_time": "2022-09-08T19:29:50.879248",
     "exception": false,
     "start_time": "2022-09-08T19:29:50.840924",
     "status": "completed"
    },
    "tags": []
   },
   "outputs": [
    {
     "data": {
      "text/plain": [
       "array([0, 3])"
      ]
     },
     "execution_count": 84,
     "metadata": {},
     "output_type": "execute_result"
    }
   ],
   "source": [
    "a[[0,-1]]"
   ]
  },
  {
   "cell_type": "code",
   "execution_count": 85,
   "id": "1847b908",
   "metadata": {
    "execution": {
     "iopub.execute_input": "2022-09-08T19:29:50.943923Z",
     "iopub.status.busy": "2022-09-08T19:29:50.943341Z",
     "iopub.status.idle": "2022-09-08T19:29:50.948662Z",
     "shell.execute_reply": "2022-09-08T19:29:50.947681Z"
    },
    "papermill": {
     "duration": 0.03968,
     "end_time": "2022-09-08T19:29:50.950308",
     "exception": false,
     "start_time": "2022-09-08T19:29:50.910628",
     "status": "completed"
    },
    "tags": []
   },
   "outputs": [
    {
     "data": {
      "text/plain": [
       "array([0, 3])"
      ]
     },
     "execution_count": 85,
     "metadata": {},
     "output_type": "execute_result"
    }
   ],
   "source": [
    "a[[True , False, False, True]]"
   ]
  },
  {
   "cell_type": "code",
   "execution_count": 86,
   "id": "fa71894e",
   "metadata": {
    "execution": {
     "iopub.execute_input": "2022-09-08T19:29:51.014066Z",
     "iopub.status.busy": "2022-09-08T19:29:51.013503Z",
     "iopub.status.idle": "2022-09-08T19:29:51.021744Z",
     "shell.execute_reply": "2022-09-08T19:29:51.020142Z"
    },
    "papermill": {
     "duration": 0.042498,
     "end_time": "2022-09-08T19:29:51.023691",
     "exception": false,
     "start_time": "2022-09-08T19:29:50.981193",
     "status": "completed"
    },
    "tags": []
   },
   "outputs": [
    {
     "data": {
      "text/plain": [
       "array([0, 1, 3])"
      ]
     },
     "execution_count": 86,
     "metadata": {},
     "output_type": "execute_result"
    }
   ],
   "source": [
    "a[[True , True, False, True]]"
   ]
  },
  {
   "cell_type": "code",
   "execution_count": 87,
   "id": "513c1d2c",
   "metadata": {
    "execution": {
     "iopub.execute_input": "2022-09-08T19:29:51.086151Z",
     "iopub.status.busy": "2022-09-08T19:29:51.085826Z",
     "iopub.status.idle": "2022-09-08T19:29:51.092136Z",
     "shell.execute_reply": "2022-09-08T19:29:51.090306Z"
    },
    "papermill": {
     "duration": 0.040371,
     "end_time": "2022-09-08T19:29:51.094329",
     "exception": false,
     "start_time": "2022-09-08T19:29:51.053958",
     "status": "completed"
    },
    "tags": []
   },
   "outputs": [
    {
     "data": {
      "text/plain": [
       "array([0, 1, 2, 3])"
      ]
     },
     "execution_count": 87,
     "metadata": {},
     "output_type": "execute_result"
    }
   ],
   "source": [
    "a"
   ]
  },
  {
   "cell_type": "code",
   "execution_count": 88,
   "id": "e4a4c03f",
   "metadata": {
    "execution": {
     "iopub.execute_input": "2022-09-08T19:29:51.158805Z",
     "iopub.status.busy": "2022-09-08T19:29:51.158457Z",
     "iopub.status.idle": "2022-09-08T19:29:51.163442Z",
     "shell.execute_reply": "2022-09-08T19:29:51.162811Z"
    },
    "papermill": {
     "duration": 0.039918,
     "end_time": "2022-09-08T19:29:51.165360",
     "exception": false,
     "start_time": "2022-09-08T19:29:51.125442",
     "status": "completed"
    },
    "tags": []
   },
   "outputs": [
    {
     "data": {
      "text/plain": [
       "array([False, False,  True,  True])"
      ]
     },
     "execution_count": 88,
     "metadata": {},
     "output_type": "execute_result"
    }
   ],
   "source": [
    "a>=2"
   ]
  },
  {
   "cell_type": "code",
   "execution_count": 89,
   "id": "865d8c15",
   "metadata": {
    "execution": {
     "iopub.execute_input": "2022-09-08T19:29:51.232442Z",
     "iopub.status.busy": "2022-09-08T19:29:51.231158Z",
     "iopub.status.idle": "2022-09-08T19:29:51.237050Z",
     "shell.execute_reply": "2022-09-08T19:29:51.236486Z"
    },
    "papermill": {
     "duration": 0.04046,
     "end_time": "2022-09-08T19:29:51.238669",
     "exception": false,
     "start_time": "2022-09-08T19:29:51.198209",
     "status": "completed"
    },
    "tags": []
   },
   "outputs": [
    {
     "data": {
      "text/plain": [
       "array([2, 3])"
      ]
     },
     "execution_count": 89,
     "metadata": {},
     "output_type": "execute_result"
    }
   ],
   "source": [
    "a[a>=2]"
   ]
  },
  {
   "cell_type": "code",
   "execution_count": 90,
   "id": "953e734e",
   "metadata": {
    "execution": {
     "iopub.execute_input": "2022-09-08T19:29:51.304877Z",
     "iopub.status.busy": "2022-09-08T19:29:51.303837Z",
     "iopub.status.idle": "2022-09-08T19:29:51.310215Z",
     "shell.execute_reply": "2022-09-08T19:29:51.309213Z"
    },
    "papermill": {
     "duration": 0.041297,
     "end_time": "2022-09-08T19:29:51.312459",
     "exception": false,
     "start_time": "2022-09-08T19:29:51.271162",
     "status": "completed"
    },
    "tags": []
   },
   "outputs": [
    {
     "data": {
      "text/plain": [
       "1.5"
      ]
     },
     "execution_count": 90,
     "metadata": {},
     "output_type": "execute_result"
    }
   ],
   "source": [
    "a.mean()"
   ]
  },
  {
   "cell_type": "code",
   "execution_count": 91,
   "id": "5d709d61",
   "metadata": {
    "execution": {
     "iopub.execute_input": "2022-09-08T19:29:51.379566Z",
     "iopub.status.busy": "2022-09-08T19:29:51.378862Z",
     "iopub.status.idle": "2022-09-08T19:29:51.384343Z",
     "shell.execute_reply": "2022-09-08T19:29:51.383070Z"
    },
    "papermill": {
     "duration": 0.041531,
     "end_time": "2022-09-08T19:29:51.386104",
     "exception": false,
     "start_time": "2022-09-08T19:29:51.344573",
     "status": "completed"
    },
    "tags": []
   },
   "outputs": [
    {
     "data": {
      "text/plain": [
       "array([2, 3])"
      ]
     },
     "execution_count": 91,
     "metadata": {},
     "output_type": "execute_result"
    }
   ],
   "source": [
    "a[a>a.mean()]"
   ]
  },
  {
   "cell_type": "code",
   "execution_count": 92,
   "id": "d6bcdbbf",
   "metadata": {
    "execution": {
     "iopub.execute_input": "2022-09-08T19:29:51.452428Z",
     "iopub.status.busy": "2022-09-08T19:29:51.451923Z",
     "iopub.status.idle": "2022-09-08T19:29:51.459567Z",
     "shell.execute_reply": "2022-09-08T19:29:51.458588Z"
    },
    "papermill": {
     "duration": 0.04334,
     "end_time": "2022-09-08T19:29:51.461418",
     "exception": false,
     "start_time": "2022-09-08T19:29:51.418078",
     "status": "completed"
    },
    "tags": []
   },
   "outputs": [
    {
     "data": {
      "text/plain": [
       "array([0, 1])"
      ]
     },
     "execution_count": 92,
     "metadata": {},
     "output_type": "execute_result"
    }
   ],
   "source": [
    "a[~(a>a.mean())]"
   ]
  },
  {
   "cell_type": "code",
   "execution_count": 93,
   "id": "c6dd0710",
   "metadata": {
    "execution": {
     "iopub.execute_input": "2022-09-08T19:29:51.528620Z",
     "iopub.status.busy": "2022-09-08T19:29:51.527314Z",
     "iopub.status.idle": "2022-09-08T19:29:51.534341Z",
     "shell.execute_reply": "2022-09-08T19:29:51.533666Z"
    },
    "papermill": {
     "duration": 0.042184,
     "end_time": "2022-09-08T19:29:51.536056",
     "exception": false,
     "start_time": "2022-09-08T19:29:51.493872",
     "status": "completed"
    },
    "tags": []
   },
   "outputs": [
    {
     "data": {
      "text/plain": [
       "array([0, 1])"
      ]
     },
     "execution_count": 93,
     "metadata": {},
     "output_type": "execute_result"
    }
   ],
   "source": [
    "a[(a == 0) | (a==1)]"
   ]
  },
  {
   "cell_type": "code",
   "execution_count": 94,
   "id": "cf35e3d6",
   "metadata": {
    "execution": {
     "iopub.execute_input": "2022-09-08T19:29:51.602665Z",
     "iopub.status.busy": "2022-09-08T19:29:51.602320Z",
     "iopub.status.idle": "2022-09-08T19:29:51.608295Z",
     "shell.execute_reply": "2022-09-08T19:29:51.607421Z"
    },
    "papermill": {
     "duration": 0.042181,
     "end_time": "2022-09-08T19:29:51.610165",
     "exception": false,
     "start_time": "2022-09-08T19:29:51.567984",
     "status": "completed"
    },
    "tags": []
   },
   "outputs": [
    {
     "data": {
      "text/plain": [
       "array([0, 2])"
      ]
     },
     "execution_count": 94,
     "metadata": {},
     "output_type": "execute_result"
    }
   ],
   "source": [
    "a[(a<=2) & (a%2 ==0)]"
   ]
  },
  {
   "cell_type": "code",
   "execution_count": 95,
   "id": "b83acda1",
   "metadata": {
    "execution": {
     "iopub.execute_input": "2022-09-08T19:29:51.676290Z",
     "iopub.status.busy": "2022-09-08T19:29:51.675733Z",
     "iopub.status.idle": "2022-09-08T19:29:51.680099Z",
     "shell.execute_reply": "2022-09-08T19:29:51.679260Z"
    },
    "papermill": {
     "duration": 0.039887,
     "end_time": "2022-09-08T19:29:51.681875",
     "exception": false,
     "start_time": "2022-09-08T19:29:51.641988",
     "status": "completed"
    },
    "tags": []
   },
   "outputs": [],
   "source": [
    "A = np.random.randint(100,size=(3,3))"
   ]
  },
  {
   "cell_type": "code",
   "execution_count": 96,
   "id": "0d15ea71",
   "metadata": {
    "execution": {
     "iopub.execute_input": "2022-09-08T19:29:51.747749Z",
     "iopub.status.busy": "2022-09-08T19:29:51.747151Z",
     "iopub.status.idle": "2022-09-08T19:29:51.752423Z",
     "shell.execute_reply": "2022-09-08T19:29:51.751812Z"
    },
    "papermill": {
     "duration": 0.040253,
     "end_time": "2022-09-08T19:29:51.754079",
     "exception": false,
     "start_time": "2022-09-08T19:29:51.713826",
     "status": "completed"
    },
    "tags": []
   },
   "outputs": [
    {
     "data": {
      "text/plain": [
       "array([[93, 77, 87],\n",
       "       [63, 85, 78],\n",
       "       [15, 87, 89]])"
      ]
     },
     "execution_count": 96,
     "metadata": {},
     "output_type": "execute_result"
    }
   ],
   "source": [
    "A"
   ]
  },
  {
   "cell_type": "code",
   "execution_count": 97,
   "id": "3c4b1ce5",
   "metadata": {
    "execution": {
     "iopub.execute_input": "2022-09-08T19:29:51.821744Z",
     "iopub.status.busy": "2022-09-08T19:29:51.821170Z",
     "iopub.status.idle": "2022-09-08T19:29:51.827293Z",
     "shell.execute_reply": "2022-09-08T19:29:51.826653Z"
    },
    "papermill": {
     "duration": 0.042394,
     "end_time": "2022-09-08T19:29:51.828990",
     "exception": false,
     "start_time": "2022-09-08T19:29:51.786596",
     "status": "completed"
    },
    "tags": []
   },
   "outputs": [
    {
     "data": {
      "text/plain": [
       "array([93, 87, 85, 15, 89])"
      ]
     },
     "execution_count": 97,
     "metadata": {},
     "output_type": "execute_result"
    }
   ],
   "source": [
    "A[np.array([\n",
    "    [True, False, True],\n",
    "    [False, True, False],\n",
    "    [True, False, True]\n",
    "])]"
   ]
  },
  {
   "cell_type": "code",
   "execution_count": 98,
   "id": "ede3a6e3",
   "metadata": {
    "execution": {
     "iopub.execute_input": "2022-09-08T19:29:51.899000Z",
     "iopub.status.busy": "2022-09-08T19:29:51.898386Z",
     "iopub.status.idle": "2022-09-08T19:29:51.904256Z",
     "shell.execute_reply": "2022-09-08T19:29:51.903075Z"
    },
    "papermill": {
     "duration": 0.043495,
     "end_time": "2022-09-08T19:29:51.906007",
     "exception": false,
     "start_time": "2022-09-08T19:29:51.862512",
     "status": "completed"
    },
    "tags": []
   },
   "outputs": [
    {
     "data": {
      "text/plain": [
       "array([[ True,  True,  True],\n",
       "       [ True,  True,  True],\n",
       "       [False,  True,  True]])"
      ]
     },
     "execution_count": 98,
     "metadata": {},
     "output_type": "execute_result"
    }
   ],
   "source": [
    "A>30"
   ]
  },
  {
   "cell_type": "code",
   "execution_count": 99,
   "id": "cf314793",
   "metadata": {
    "execution": {
     "iopub.execute_input": "2022-09-08T19:29:51.978422Z",
     "iopub.status.busy": "2022-09-08T19:29:51.978082Z",
     "iopub.status.idle": "2022-09-08T19:29:51.983783Z",
     "shell.execute_reply": "2022-09-08T19:29:51.982876Z"
    },
    "papermill": {
     "duration": 0.044278,
     "end_time": "2022-09-08T19:29:51.985654",
     "exception": false,
     "start_time": "2022-09-08T19:29:51.941376",
     "status": "completed"
    },
    "tags": []
   },
   "outputs": [
    {
     "data": {
      "text/plain": [
       "array([93, 77, 87, 63, 85, 78, 87, 89])"
      ]
     },
     "execution_count": 99,
     "metadata": {},
     "output_type": "execute_result"
    }
   ],
   "source": [
    "A[A>30]"
   ]
  },
  {
   "cell_type": "markdown",
   "id": "eaa3f718",
   "metadata": {
    "papermill": {
     "duration": 0.032,
     "end_time": "2022-09-08T19:29:52.050381",
     "exception": false,
     "start_time": "2022-09-08T19:29:52.018381",
     "status": "completed"
    },
    "tags": []
   },
   "source": [
    "# **Linear Algebra**"
   ]
  },
  {
   "cell_type": "code",
   "execution_count": 100,
   "id": "62ce6efd",
   "metadata": {
    "execution": {
     "iopub.execute_input": "2022-09-08T19:29:52.116782Z",
     "iopub.status.busy": "2022-09-08T19:29:52.116068Z",
     "iopub.status.idle": "2022-09-08T19:29:52.122285Z",
     "shell.execute_reply": "2022-09-08T19:29:52.121010Z"
    },
    "papermill": {
     "duration": 0.041857,
     "end_time": "2022-09-08T19:29:52.124500",
     "exception": false,
     "start_time": "2022-09-08T19:29:52.082643",
     "status": "completed"
    },
    "tags": []
   },
   "outputs": [],
   "source": [
    "A = np.array([\n",
    "    [1,2,3],\n",
    "    [4,5,6],\n",
    "    [7,8,9]\n",
    "])"
   ]
  },
  {
   "cell_type": "code",
   "execution_count": 101,
   "id": "d9aad1f6",
   "metadata": {
    "execution": {
     "iopub.execute_input": "2022-09-08T19:29:52.192541Z",
     "iopub.status.busy": "2022-09-08T19:29:52.191944Z",
     "iopub.status.idle": "2022-09-08T19:29:52.196231Z",
     "shell.execute_reply": "2022-09-08T19:29:52.195576Z"
    },
    "papermill": {
     "duration": 0.040802,
     "end_time": "2022-09-08T19:29:52.198061",
     "exception": false,
     "start_time": "2022-09-08T19:29:52.157259",
     "status": "completed"
    },
    "tags": []
   },
   "outputs": [],
   "source": [
    "B = np.array([\n",
    "    [6,5],\n",
    "    [4,3],\n",
    "    [2,1]\n",
    "])"
   ]
  },
  {
   "cell_type": "code",
   "execution_count": 102,
   "id": "4621a195",
   "metadata": {
    "execution": {
     "iopub.execute_input": "2022-09-08T19:29:52.266108Z",
     "iopub.status.busy": "2022-09-08T19:29:52.265796Z",
     "iopub.status.idle": "2022-09-08T19:29:52.270970Z",
     "shell.execute_reply": "2022-09-08T19:29:52.270157Z"
    },
    "papermill": {
     "duration": 0.041478,
     "end_time": "2022-09-08T19:29:52.273151",
     "exception": false,
     "start_time": "2022-09-08T19:29:52.231673",
     "status": "completed"
    },
    "tags": []
   },
   "outputs": [
    {
     "data": {
      "text/plain": [
       "array([[20, 14],\n",
       "       [56, 41],\n",
       "       [92, 68]])"
      ]
     },
     "execution_count": 102,
     "metadata": {},
     "output_type": "execute_result"
    }
   ],
   "source": [
    "A.dot(B)"
   ]
  },
  {
   "cell_type": "code",
   "execution_count": 103,
   "id": "4e31e431",
   "metadata": {
    "execution": {
     "iopub.execute_input": "2022-09-08T19:29:52.342070Z",
     "iopub.status.busy": "2022-09-08T19:29:52.341437Z",
     "iopub.status.idle": "2022-09-08T19:29:52.347464Z",
     "shell.execute_reply": "2022-09-08T19:29:52.346855Z"
    },
    "papermill": {
     "duration": 0.042276,
     "end_time": "2022-09-08T19:29:52.349241",
     "exception": false,
     "start_time": "2022-09-08T19:29:52.306965",
     "status": "completed"
    },
    "tags": []
   },
   "outputs": [
    {
     "data": {
      "text/plain": [
       "array([[20, 14],\n",
       "       [56, 41],\n",
       "       [92, 68]])"
      ]
     },
     "execution_count": 103,
     "metadata": {},
     "output_type": "execute_result"
    }
   ],
   "source": [
    "A @ B\n",
    "# shortcut for dot product"
   ]
  },
  {
   "cell_type": "code",
   "execution_count": 104,
   "id": "d551cbd9",
   "metadata": {
    "execution": {
     "iopub.execute_input": "2022-09-08T19:29:52.418192Z",
     "iopub.status.busy": "2022-09-08T19:29:52.417639Z",
     "iopub.status.idle": "2022-09-08T19:29:52.422797Z",
     "shell.execute_reply": "2022-09-08T19:29:52.422250Z"
    },
    "papermill": {
     "duration": 0.040557,
     "end_time": "2022-09-08T19:29:52.424328",
     "exception": false,
     "start_time": "2022-09-08T19:29:52.383771",
     "status": "completed"
    },
    "tags": []
   },
   "outputs": [
    {
     "data": {
      "text/plain": [
       "array([[6, 4, 2],\n",
       "       [5, 3, 1]])"
      ]
     },
     "execution_count": 104,
     "metadata": {},
     "output_type": "execute_result"
    }
   ],
   "source": [
    "B.T\n",
    "# Transpose of B (Shortcut)"
   ]
  },
  {
   "cell_type": "code",
   "execution_count": 105,
   "id": "98607897",
   "metadata": {
    "execution": {
     "iopub.execute_input": "2022-09-08T19:29:52.497558Z",
     "iopub.status.busy": "2022-09-08T19:29:52.496913Z",
     "iopub.status.idle": "2022-09-08T19:29:52.502613Z",
     "shell.execute_reply": "2022-09-08T19:29:52.501702Z"
    },
    "papermill": {
     "duration": 0.043927,
     "end_time": "2022-09-08T19:29:52.504520",
     "exception": false,
     "start_time": "2022-09-08T19:29:52.460593",
     "status": "completed"
    },
    "tags": []
   },
   "outputs": [
    {
     "data": {
      "text/plain": [
       "array([[1, 2, 3],\n",
       "       [4, 5, 6],\n",
       "       [7, 8, 9]])"
      ]
     },
     "execution_count": 105,
     "metadata": {},
     "output_type": "execute_result"
    }
   ],
   "source": [
    "A"
   ]
  },
  {
   "cell_type": "code",
   "execution_count": 106,
   "id": "f3f1a501",
   "metadata": {
    "execution": {
     "iopub.execute_input": "2022-09-08T19:29:52.574564Z",
     "iopub.status.busy": "2022-09-08T19:29:52.573976Z",
     "iopub.status.idle": "2022-09-08T19:29:52.579449Z",
     "shell.execute_reply": "2022-09-08T19:29:52.578794Z"
    },
    "papermill": {
     "duration": 0.043115,
     "end_time": "2022-09-08T19:29:52.581167",
     "exception": false,
     "start_time": "2022-09-08T19:29:52.538052",
     "status": "completed"
    },
    "tags": []
   },
   "outputs": [
    {
     "data": {
      "text/plain": [
       "array([[36, 48, 60],\n",
       "       [24, 33, 42]])"
      ]
     },
     "execution_count": 106,
     "metadata": {},
     "output_type": "execute_result"
    }
   ],
   "source": [
    "B.T @ A"
   ]
  },
  {
   "cell_type": "markdown",
   "id": "ae5dca9c",
   "metadata": {
    "papermill": {
     "duration": 0.033537,
     "end_time": "2022-09-08T19:29:52.647713",
     "exception": false,
     "start_time": "2022-09-08T19:29:52.614176",
     "status": "completed"
    },
    "tags": []
   },
   "source": [
    "# **Size of objects in Memory**"
   ]
  },
  {
   "cell_type": "code",
   "execution_count": 107,
   "id": "0bf98abf",
   "metadata": {
    "execution": {
     "iopub.execute_input": "2022-09-08T19:29:52.716657Z",
     "iopub.status.busy": "2022-09-08T19:29:52.716280Z",
     "iopub.status.idle": "2022-09-08T19:29:52.722400Z",
     "shell.execute_reply": "2022-09-08T19:29:52.721494Z"
    },
    "papermill": {
     "duration": 0.043114,
     "end_time": "2022-09-08T19:29:52.724278",
     "exception": false,
     "start_time": "2022-09-08T19:29:52.681164",
     "status": "completed"
    },
    "tags": []
   },
   "outputs": [
    {
     "data": {
      "text/plain": [
       "28"
      ]
     },
     "execution_count": 107,
     "metadata": {},
     "output_type": "execute_result"
    }
   ],
   "source": [
    "# An integer in python is  > 24 bytes\n",
    "sys.getsizeof(1)"
   ]
  },
  {
   "cell_type": "code",
   "execution_count": 108,
   "id": "9e5f475d",
   "metadata": {
    "execution": {
     "iopub.execute_input": "2022-09-08T19:29:52.795334Z",
     "iopub.status.busy": "2022-09-08T19:29:52.794780Z",
     "iopub.status.idle": "2022-09-08T19:29:52.801237Z",
     "shell.execute_reply": "2022-09-08T19:29:52.800287Z"
    },
    "papermill": {
     "duration": 0.0438,
     "end_time": "2022-09-08T19:29:52.803420",
     "exception": false,
     "start_time": "2022-09-08T19:29:52.759620",
     "status": "completed"
    },
    "tags": []
   },
   "outputs": [
    {
     "data": {
      "text/plain": [
       "72"
      ]
     },
     "execution_count": 108,
     "metadata": {},
     "output_type": "execute_result"
    }
   ],
   "source": [
    "# Longs are even Larger\n",
    "sys.getsizeof(10**100)"
   ]
  },
  {
   "cell_type": "code",
   "execution_count": 109,
   "id": "4b52a3f4",
   "metadata": {
    "execution": {
     "iopub.execute_input": "2022-09-08T19:29:52.871487Z",
     "iopub.status.busy": "2022-09-08T19:29:52.871183Z",
     "iopub.status.idle": "2022-09-08T19:29:52.875300Z",
     "shell.execute_reply": "2022-09-08T19:29:52.874495Z"
    },
    "papermill": {
     "duration": 0.040222,
     "end_time": "2022-09-08T19:29:52.877586",
     "exception": false,
     "start_time": "2022-09-08T19:29:52.837364",
     "status": "completed"
    },
    "tags": []
   },
   "outputs": [
    {
     "name": "stdout",
     "output_type": "stream",
     "text": [
      "8\n",
      "1\n"
     ]
    }
   ],
   "source": [
    "# Numpy size is much smaller\n",
    "print(np.dtype(int).itemsize)\n",
    "print(np.dtype(np.int8).itemsize)"
   ]
  },
  {
   "cell_type": "code",
   "execution_count": 110,
   "id": "c8a69b90",
   "metadata": {
    "execution": {
     "iopub.execute_input": "2022-09-08T19:29:52.946314Z",
     "iopub.status.busy": "2022-09-08T19:29:52.945766Z",
     "iopub.status.idle": "2022-09-08T19:29:52.952365Z",
     "shell.execute_reply": "2022-09-08T19:29:52.950910Z"
    },
    "papermill": {
     "duration": 0.044028,
     "end_time": "2022-09-08T19:29:52.954874",
     "exception": false,
     "start_time": "2022-09-08T19:29:52.910846",
     "status": "completed"
    },
    "tags": []
   },
   "outputs": [
    {
     "data": {
      "text/plain": [
       "8"
      ]
     },
     "execution_count": 110,
     "metadata": {},
     "output_type": "execute_result"
    }
   ],
   "source": [
    "np.dtype(float).itemsize"
   ]
  },
  {
   "cell_type": "markdown",
   "id": "6c4d69f1",
   "metadata": {
    "papermill": {
     "duration": 0.033768,
     "end_time": "2022-09-08T19:29:53.022947",
     "exception": false,
     "start_time": "2022-09-08T19:29:52.989179",
     "status": "completed"
    },
    "tags": []
   },
   "source": [
    "# **Lists are even Larger**"
   ]
  },
  {
   "cell_type": "code",
   "execution_count": 111,
   "id": "a0507994",
   "metadata": {
    "execution": {
     "iopub.execute_input": "2022-09-08T19:29:53.091795Z",
     "iopub.status.busy": "2022-09-08T19:29:53.091452Z",
     "iopub.status.idle": "2022-09-08T19:29:53.097982Z",
     "shell.execute_reply": "2022-09-08T19:29:53.097030Z"
    },
    "papermill": {
     "duration": 0.043244,
     "end_time": "2022-09-08T19:29:53.099676",
     "exception": false,
     "start_time": "2022-09-08T19:29:53.056432",
     "status": "completed"
    },
    "tags": []
   },
   "outputs": [
    {
     "data": {
      "text/plain": [
       "80"
      ]
     },
     "execution_count": 111,
     "metadata": {},
     "output_type": "execute_result"
    }
   ],
   "source": [
    "# A one-element List\n",
    "sys.getsizeof([1])"
   ]
  },
  {
   "cell_type": "code",
   "execution_count": 112,
   "id": "814e4d5f",
   "metadata": {
    "execution": {
     "iopub.execute_input": "2022-09-08T19:29:53.167269Z",
     "iopub.status.busy": "2022-09-08T19:29:53.166935Z",
     "iopub.status.idle": "2022-09-08T19:29:53.173541Z",
     "shell.execute_reply": "2022-09-08T19:29:53.172466Z"
    },
    "papermill": {
     "duration": 0.041927,
     "end_time": "2022-09-08T19:29:53.175084",
     "exception": false,
     "start_time": "2022-09-08T19:29:53.133157",
     "status": "completed"
    },
    "tags": []
   },
   "outputs": [
    {
     "data": {
      "text/plain": [
       "8"
      ]
     },
     "execution_count": 112,
     "metadata": {},
     "output_type": "execute_result"
    }
   ],
   "source": [
    "# An array of one element in numpy\n",
    "np.array([1]).nbytes"
   ]
  },
  {
   "cell_type": "markdown",
   "id": "22fc40a0",
   "metadata": {
    "papermill": {
     "duration": 0.03258,
     "end_time": "2022-09-08T19:29:53.240706",
     "exception": false,
     "start_time": "2022-09-08T19:29:53.208126",
     "status": "completed"
    },
    "tags": []
   },
   "source": [
    "# **And performance is also important**"
   ]
  },
  {
   "cell_type": "code",
   "execution_count": 113,
   "id": "aed1fdb1",
   "metadata": {
    "execution": {
     "iopub.execute_input": "2022-09-08T19:29:53.318755Z",
     "iopub.status.busy": "2022-09-08T19:29:53.317629Z",
     "iopub.status.idle": "2022-09-08T19:29:53.326055Z",
     "shell.execute_reply": "2022-09-08T19:29:53.325141Z"
    },
    "papermill": {
     "duration": 0.050029,
     "end_time": "2022-09-08T19:29:53.328102",
     "exception": false,
     "start_time": "2022-09-08T19:29:53.278073",
     "status": "completed"
    },
    "tags": []
   },
   "outputs": [],
   "source": [
    "l = list(range(100000))"
   ]
  },
  {
   "cell_type": "code",
   "execution_count": 114,
   "id": "7dfac206",
   "metadata": {
    "execution": {
     "iopub.execute_input": "2022-09-08T19:29:53.402585Z",
     "iopub.status.busy": "2022-09-08T19:29:53.401556Z",
     "iopub.status.idle": "2022-09-08T19:29:53.407105Z",
     "shell.execute_reply": "2022-09-08T19:29:53.405873Z"
    },
    "papermill": {
     "duration": 0.047532,
     "end_time": "2022-09-08T19:29:53.409522",
     "exception": false,
     "start_time": "2022-09-08T19:29:53.361990",
     "status": "completed"
    },
    "tags": []
   },
   "outputs": [],
   "source": [
    "a = np.arange(100000)"
   ]
  },
  {
   "cell_type": "code",
   "execution_count": 115,
   "id": "f7729b83",
   "metadata": {
    "execution": {
     "iopub.execute_input": "2022-09-08T19:29:53.482784Z",
     "iopub.status.busy": "2022-09-08T19:29:53.482110Z",
     "iopub.status.idle": "2022-09-08T19:29:53.495449Z",
     "shell.execute_reply": "2022-09-08T19:29:53.494445Z"
    },
    "papermill": {
     "duration": 0.052757,
     "end_time": "2022-09-08T19:29:53.497799",
     "exception": false,
     "start_time": "2022-09-08T19:29:53.445042",
     "status": "completed"
    },
    "tags": []
   },
   "outputs": [
    {
     "name": "stdout",
     "output_type": "stream",
     "text": [
      "CPU times: user 415 µs, sys: 77 µs, total: 492 µs\n",
      "Wall time: 498 µs\n"
     ]
    },
    {
     "data": {
      "text/plain": [
       "333328333350000"
      ]
     },
     "execution_count": 115,
     "metadata": {},
     "output_type": "execute_result"
    }
   ],
   "source": [
    "%time np.sum(a**2)"
   ]
  },
  {
   "cell_type": "code",
   "execution_count": 116,
   "id": "7c2a9982",
   "metadata": {
    "execution": {
     "iopub.execute_input": "2022-09-08T19:29:53.577121Z",
     "iopub.status.busy": "2022-09-08T19:29:53.576763Z",
     "iopub.status.idle": "2022-09-08T19:29:53.613341Z",
     "shell.execute_reply": "2022-09-08T19:29:53.612123Z"
    },
    "papermill": {
     "duration": 0.081294,
     "end_time": "2022-09-08T19:29:53.615397",
     "exception": false,
     "start_time": "2022-09-08T19:29:53.534103",
     "status": "completed"
    },
    "tags": []
   },
   "outputs": [
    {
     "name": "stdout",
     "output_type": "stream",
     "text": [
      "CPU times: user 26.5 ms, sys: 3 ms, total: 29.5 ms\n",
      "Wall time: 29.6 ms\n"
     ]
    },
    {
     "data": {
      "text/plain": [
       "333328333350000"
      ]
     },
     "execution_count": 116,
     "metadata": {},
     "output_type": "execute_result"
    }
   ],
   "source": [
    "%time sum([x**2 for x in l])"
   ]
  },
  {
   "cell_type": "markdown",
   "id": "e8516626",
   "metadata": {
    "papermill": {
     "duration": 0.034119,
     "end_time": "2022-09-08T19:29:53.683330",
     "exception": false,
     "start_time": "2022-09-08T19:29:53.649211",
     "status": "completed"
    },
    "tags": []
   },
   "source": [
    "# **Useful Numpy Functions**"
   ]
  },
  {
   "cell_type": "markdown",
   "id": "59ceb9e8",
   "metadata": {
    "papermill": {
     "duration": 0.034041,
     "end_time": "2022-09-08T19:29:53.751482",
     "exception": false,
     "start_time": "2022-09-08T19:29:53.717441",
     "status": "completed"
    },
    "tags": []
   },
   "source": [
    "> # **Random**"
   ]
  },
  {
   "cell_type": "code",
   "execution_count": 117,
   "id": "047e21f1",
   "metadata": {
    "execution": {
     "iopub.execute_input": "2022-09-08T19:29:53.825060Z",
     "iopub.status.busy": "2022-09-08T19:29:53.824449Z",
     "iopub.status.idle": "2022-09-08T19:29:53.830220Z",
     "shell.execute_reply": "2022-09-08T19:29:53.829565Z"
    },
    "papermill": {
     "duration": 0.044454,
     "end_time": "2022-09-08T19:29:53.831945",
     "exception": false,
     "start_time": "2022-09-08T19:29:53.787491",
     "status": "completed"
    },
    "tags": []
   },
   "outputs": [
    {
     "data": {
      "text/plain": [
       "array([0.77804614, 0.02117107])"
      ]
     },
     "execution_count": 117,
     "metadata": {},
     "output_type": "execute_result"
    }
   ],
   "source": [
    "np.random.random(size=2)"
   ]
  },
  {
   "cell_type": "code",
   "execution_count": 118,
   "id": "dfd6b08d",
   "metadata": {
    "execution": {
     "iopub.execute_input": "2022-09-08T19:29:53.902750Z",
     "iopub.status.busy": "2022-09-08T19:29:53.902389Z",
     "iopub.status.idle": "2022-09-08T19:29:53.909723Z",
     "shell.execute_reply": "2022-09-08T19:29:53.908834Z"
    },
    "papermill": {
     "duration": 0.044856,
     "end_time": "2022-09-08T19:29:53.911413",
     "exception": false,
     "start_time": "2022-09-08T19:29:53.866557",
     "status": "completed"
    },
    "tags": []
   },
   "outputs": [
    {
     "data": {
      "text/plain": [
       "array([-1.79715707, -0.02290608])"
      ]
     },
     "execution_count": 118,
     "metadata": {},
     "output_type": "execute_result"
    }
   ],
   "source": [
    "np.random.normal(size =2 )"
   ]
  },
  {
   "cell_type": "code",
   "execution_count": 119,
   "id": "d27fdfc4",
   "metadata": {
    "execution": {
     "iopub.execute_input": "2022-09-08T19:29:53.985161Z",
     "iopub.status.busy": "2022-09-08T19:29:53.984576Z",
     "iopub.status.idle": "2022-09-08T19:29:53.990452Z",
     "shell.execute_reply": "2022-09-08T19:29:53.989772Z"
    },
    "papermill": {
     "duration": 0.046344,
     "end_time": "2022-09-08T19:29:53.992497",
     "exception": false,
     "start_time": "2022-09-08T19:29:53.946153",
     "status": "completed"
    },
    "tags": []
   },
   "outputs": [
    {
     "data": {
      "text/plain": [
       "array([[0.02081487, 0.7663015 , 0.07246918, 0.39038451],\n",
       "       [0.97499399, 0.09198785, 0.99829171, 0.91942197]])"
      ]
     },
     "execution_count": 119,
     "metadata": {},
     "output_type": "execute_result"
    }
   ],
   "source": [
    "np.random.rand(2,4)"
   ]
  },
  {
   "cell_type": "markdown",
   "id": "dc23e896",
   "metadata": {
    "papermill": {
     "duration": 0.03501,
     "end_time": "2022-09-08T19:29:54.063069",
     "exception": false,
     "start_time": "2022-09-08T19:29:54.028059",
     "status": "completed"
    },
    "tags": []
   },
   "source": [
    "> # **arange**"
   ]
  },
  {
   "cell_type": "code",
   "execution_count": 120,
   "id": "5e61cdf8",
   "metadata": {
    "execution": {
     "iopub.execute_input": "2022-09-08T19:29:54.135487Z",
     "iopub.status.busy": "2022-09-08T19:29:54.135179Z",
     "iopub.status.idle": "2022-09-08T19:29:54.141294Z",
     "shell.execute_reply": "2022-09-08T19:29:54.140300Z"
    },
    "papermill": {
     "duration": 0.044407,
     "end_time": "2022-09-08T19:29:54.143050",
     "exception": false,
     "start_time": "2022-09-08T19:29:54.098643",
     "status": "completed"
    },
    "tags": []
   },
   "outputs": [
    {
     "data": {
      "text/plain": [
       "array([0, 1, 2, 3, 4, 5, 6, 7, 8, 9])"
      ]
     },
     "execution_count": 120,
     "metadata": {},
     "output_type": "execute_result"
    }
   ],
   "source": [
    "np.arange(10)"
   ]
  },
  {
   "cell_type": "code",
   "execution_count": 121,
   "id": "95ffd660",
   "metadata": {
    "execution": {
     "iopub.execute_input": "2022-09-08T19:29:54.215750Z",
     "iopub.status.busy": "2022-09-08T19:29:54.215406Z",
     "iopub.status.idle": "2022-09-08T19:29:54.222783Z",
     "shell.execute_reply": "2022-09-08T19:29:54.221690Z"
    },
    "papermill": {
     "duration": 0.046502,
     "end_time": "2022-09-08T19:29:54.225126",
     "exception": false,
     "start_time": "2022-09-08T19:29:54.178624",
     "status": "completed"
    },
    "tags": []
   },
   "outputs": [
    {
     "data": {
      "text/plain": [
       "array([5, 6, 7, 8, 9])"
      ]
     },
     "execution_count": 121,
     "metadata": {},
     "output_type": "execute_result"
    }
   ],
   "source": [
    "np.arange(5,10)"
   ]
  },
  {
   "cell_type": "code",
   "execution_count": 122,
   "id": "5dbaa11a",
   "metadata": {
    "execution": {
     "iopub.execute_input": "2022-09-08T19:29:54.302616Z",
     "iopub.status.busy": "2022-09-08T19:29:54.301777Z",
     "iopub.status.idle": "2022-09-08T19:29:54.309257Z",
     "shell.execute_reply": "2022-09-08T19:29:54.308179Z"
    },
    "papermill": {
     "duration": 0.049901,
     "end_time": "2022-09-08T19:29:54.310930",
     "exception": false,
     "start_time": "2022-09-08T19:29:54.261029",
     "status": "completed"
    },
    "tags": []
   },
   "outputs": [
    {
     "data": {
      "text/plain": [
       "array([0. , 0.1, 0.2, 0.3, 0.4, 0.5, 0.6, 0.7, 0.8, 0.9])"
      ]
     },
     "execution_count": 122,
     "metadata": {},
     "output_type": "execute_result"
    }
   ],
   "source": [
    "np.arange(0,1,.1)"
   ]
  },
  {
   "cell_type": "markdown",
   "id": "4161bbb2",
   "metadata": {
    "papermill": {
     "duration": 0.035442,
     "end_time": "2022-09-08T19:29:54.382390",
     "exception": false,
     "start_time": "2022-09-08T19:29:54.346948",
     "status": "completed"
    },
    "tags": []
   },
   "source": [
    "> # **reshape**"
   ]
  },
  {
   "cell_type": "code",
   "execution_count": 123,
   "id": "a3bf2bee",
   "metadata": {
    "execution": {
     "iopub.execute_input": "2022-09-08T19:29:54.456063Z",
     "iopub.status.busy": "2022-09-08T19:29:54.455476Z",
     "iopub.status.idle": "2022-09-08T19:29:54.460487Z",
     "shell.execute_reply": "2022-09-08T19:29:54.459898Z"
    },
    "papermill": {
     "duration": 0.043117,
     "end_time": "2022-09-08T19:29:54.461945",
     "exception": false,
     "start_time": "2022-09-08T19:29:54.418828",
     "status": "completed"
    },
    "tags": []
   },
   "outputs": [
    {
     "data": {
      "text/plain": [
       "array([[0, 1, 2, 3, 4],\n",
       "       [5, 6, 7, 8, 9]])"
      ]
     },
     "execution_count": 123,
     "metadata": {},
     "output_type": "execute_result"
    }
   ],
   "source": [
    "np.arange(10).reshape(2,5)"
   ]
  },
  {
   "cell_type": "code",
   "execution_count": 124,
   "id": "7be42b79",
   "metadata": {
    "execution": {
     "iopub.execute_input": "2022-09-08T19:29:54.532619Z",
     "iopub.status.busy": "2022-09-08T19:29:54.532072Z",
     "iopub.status.idle": "2022-09-08T19:29:54.538017Z",
     "shell.execute_reply": "2022-09-08T19:29:54.536627Z"
    },
    "papermill": {
     "duration": 0.04435,
     "end_time": "2022-09-08T19:29:54.540855",
     "exception": false,
     "start_time": "2022-09-08T19:29:54.496505",
     "status": "completed"
    },
    "tags": []
   },
   "outputs": [
    {
     "data": {
      "text/plain": [
       "array([[0, 1],\n",
       "       [2, 3],\n",
       "       [4, 5],\n",
       "       [6, 7],\n",
       "       [8, 9]])"
      ]
     },
     "execution_count": 124,
     "metadata": {},
     "output_type": "execute_result"
    }
   ],
   "source": [
    "np.arange(10).reshape(5,2)"
   ]
  },
  {
   "cell_type": "markdown",
   "id": "d75cca05",
   "metadata": {
    "papermill": {
     "duration": 0.035844,
     "end_time": "2022-09-08T19:29:54.612304",
     "exception": false,
     "start_time": "2022-09-08T19:29:54.576460",
     "status": "completed"
    },
    "tags": []
   },
   "source": [
    "> # **linspace**\n",
    "Return evenly spaced numbers over a specified interval. Returns num evenly spaced samples"
   ]
  },
  {
   "cell_type": "code",
   "execution_count": 125,
   "id": "2250fa6f",
   "metadata": {
    "execution": {
     "iopub.execute_input": "2022-09-08T19:29:54.683257Z",
     "iopub.status.busy": "2022-09-08T19:29:54.682929Z",
     "iopub.status.idle": "2022-09-08T19:29:54.689392Z",
     "shell.execute_reply": "2022-09-08T19:29:54.688145Z"
    },
    "papermill": {
     "duration": 0.04405,
     "end_time": "2022-09-08T19:29:54.691276",
     "exception": false,
     "start_time": "2022-09-08T19:29:54.647226",
     "status": "completed"
    },
    "tags": []
   },
   "outputs": [
    {
     "data": {
      "text/plain": [
       "array([0.  , 0.25, 0.5 , 0.75, 1.  ])"
      ]
     },
     "execution_count": 125,
     "metadata": {},
     "output_type": "execute_result"
    }
   ],
   "source": [
    "np.linspace(0,1,5)\n",
    "# here interval (0,1) is divided into 5 equal parts and stored as an array"
   ]
  },
  {
   "cell_type": "code",
   "execution_count": 126,
   "id": "ef344226",
   "metadata": {
    "execution": {
     "iopub.execute_input": "2022-09-08T19:29:54.765796Z",
     "iopub.status.busy": "2022-09-08T19:29:54.765421Z",
     "iopub.status.idle": "2022-09-08T19:29:54.772883Z",
     "shell.execute_reply": "2022-09-08T19:29:54.771821Z"
    },
    "papermill": {
     "duration": 0.046666,
     "end_time": "2022-09-08T19:29:54.774811",
     "exception": false,
     "start_time": "2022-09-08T19:29:54.728145",
     "status": "completed"
    },
    "tags": []
   },
   "outputs": [
    {
     "data": {
      "text/plain": [
       "array([0.        , 0.05263158, 0.10526316, 0.15789474, 0.21052632,\n",
       "       0.26315789, 0.31578947, 0.36842105, 0.42105263, 0.47368421,\n",
       "       0.52631579, 0.57894737, 0.63157895, 0.68421053, 0.73684211,\n",
       "       0.78947368, 0.84210526, 0.89473684, 0.94736842, 1.        ])"
      ]
     },
     "execution_count": 126,
     "metadata": {},
     "output_type": "execute_result"
    }
   ],
   "source": [
    "np.linspace(0,1,20)"
   ]
  },
  {
   "cell_type": "code",
   "execution_count": 127,
   "id": "ce1d9ae4",
   "metadata": {
    "execution": {
     "iopub.execute_input": "2022-09-08T19:29:54.850893Z",
     "iopub.status.busy": "2022-09-08T19:29:54.850593Z",
     "iopub.status.idle": "2022-09-08T19:29:54.856695Z",
     "shell.execute_reply": "2022-09-08T19:29:54.855828Z"
    },
    "papermill": {
     "duration": 0.046268,
     "end_time": "2022-09-08T19:29:54.858639",
     "exception": false,
     "start_time": "2022-09-08T19:29:54.812371",
     "status": "completed"
    },
    "tags": []
   },
   "outputs": [
    {
     "data": {
      "text/plain": [
       "array([0.  , 0.05, 0.1 , 0.15, 0.2 , 0.25, 0.3 , 0.35, 0.4 , 0.45, 0.5 ,\n",
       "       0.55, 0.6 , 0.65, 0.7 , 0.75, 0.8 , 0.85, 0.9 , 0.95])"
      ]
     },
     "execution_count": 127,
     "metadata": {},
     "output_type": "execute_result"
    }
   ],
   "source": [
    "np.linspace(0,1,20,False)\n",
    "# false helps to make the float value till 2 decimal places"
   ]
  },
  {
   "cell_type": "markdown",
   "id": "b96676fb",
   "metadata": {
    "papermill": {
     "duration": 0.036917,
     "end_time": "2022-09-08T19:29:54.932929",
     "exception": false,
     "start_time": "2022-09-08T19:29:54.896012",
     "status": "completed"
    },
    "tags": []
   },
   "source": [
    "> # **Zeros , ones , empty**"
   ]
  },
  {
   "cell_type": "code",
   "execution_count": 128,
   "id": "088178db",
   "metadata": {
    "execution": {
     "iopub.execute_input": "2022-09-08T19:29:55.009816Z",
     "iopub.status.busy": "2022-09-08T19:29:55.009025Z",
     "iopub.status.idle": "2022-09-08T19:29:55.014988Z",
     "shell.execute_reply": "2022-09-08T19:29:55.014296Z"
    },
    "papermill": {
     "duration": 0.045671,
     "end_time": "2022-09-08T19:29:55.016814",
     "exception": false,
     "start_time": "2022-09-08T19:29:54.971143",
     "status": "completed"
    },
    "tags": []
   },
   "outputs": [
    {
     "data": {
      "text/plain": [
       "array([0., 0., 0., 0., 0.])"
      ]
     },
     "execution_count": 128,
     "metadata": {},
     "output_type": "execute_result"
    }
   ],
   "source": [
    "np.zeros(5)"
   ]
  },
  {
   "cell_type": "code",
   "execution_count": 129,
   "id": "4ff52e99",
   "metadata": {
    "execution": {
     "iopub.execute_input": "2022-09-08T19:29:55.091256Z",
     "iopub.status.busy": "2022-09-08T19:29:55.090688Z",
     "iopub.status.idle": "2022-09-08T19:29:55.096217Z",
     "shell.execute_reply": "2022-09-08T19:29:55.095520Z"
    },
    "papermill": {
     "duration": 0.044832,
     "end_time": "2022-09-08T19:29:55.098011",
     "exception": false,
     "start_time": "2022-09-08T19:29:55.053179",
     "status": "completed"
    },
    "tags": []
   },
   "outputs": [
    {
     "data": {
      "text/plain": [
       "array([[0., 0., 0.],\n",
       "       [0., 0., 0.],\n",
       "       [0., 0., 0.]])"
      ]
     },
     "execution_count": 129,
     "metadata": {},
     "output_type": "execute_result"
    }
   ],
   "source": [
    "np.zeros((3,3))"
   ]
  },
  {
   "cell_type": "code",
   "execution_count": 130,
   "id": "689358e3",
   "metadata": {
    "execution": {
     "iopub.execute_input": "2022-09-08T19:29:55.173985Z",
     "iopub.status.busy": "2022-09-08T19:29:55.172360Z",
     "iopub.status.idle": "2022-09-08T19:29:55.180503Z",
     "shell.execute_reply": "2022-09-08T19:29:55.178991Z"
    },
    "papermill": {
     "duration": 0.048275,
     "end_time": "2022-09-08T19:29:55.182716",
     "exception": false,
     "start_time": "2022-09-08T19:29:55.134441",
     "status": "completed"
    },
    "tags": []
   },
   "outputs": [
    {
     "data": {
      "text/plain": [
       "array([[0, 0, 0],\n",
       "       [0, 0, 0],\n",
       "       [0, 0, 0]])"
      ]
     },
     "execution_count": 130,
     "metadata": {},
     "output_type": "execute_result"
    }
   ],
   "source": [
    "np.zeros((3,3),dtype = int)"
   ]
  },
  {
   "cell_type": "code",
   "execution_count": 131,
   "id": "9324b370",
   "metadata": {
    "execution": {
     "iopub.execute_input": "2022-09-08T19:29:55.256478Z",
     "iopub.status.busy": "2022-09-08T19:29:55.255194Z",
     "iopub.status.idle": "2022-09-08T19:29:55.262634Z",
     "shell.execute_reply": "2022-09-08T19:29:55.261778Z"
    },
    "papermill": {
     "duration": 0.046467,
     "end_time": "2022-09-08T19:29:55.265060",
     "exception": false,
     "start_time": "2022-09-08T19:29:55.218593",
     "status": "completed"
    },
    "tags": []
   },
   "outputs": [
    {
     "data": {
      "text/plain": [
       "array([1., 1., 1., 1., 1.])"
      ]
     },
     "execution_count": 131,
     "metadata": {},
     "output_type": "execute_result"
    }
   ],
   "source": [
    "np.ones(5)"
   ]
  },
  {
   "cell_type": "code",
   "execution_count": 132,
   "id": "8a071da2",
   "metadata": {
    "execution": {
     "iopub.execute_input": "2022-09-08T19:29:55.343957Z",
     "iopub.status.busy": "2022-09-08T19:29:55.343590Z",
     "iopub.status.idle": "2022-09-08T19:29:55.348843Z",
     "shell.execute_reply": "2022-09-08T19:29:55.348196Z"
    },
    "papermill": {
     "duration": 0.045744,
     "end_time": "2022-09-08T19:29:55.350695",
     "exception": false,
     "start_time": "2022-09-08T19:29:55.304951",
     "status": "completed"
    },
    "tags": []
   },
   "outputs": [
    {
     "data": {
      "text/plain": [
       "array([[1., 1., 1.],\n",
       "       [1., 1., 1.],\n",
       "       [1., 1., 1.]])"
      ]
     },
     "execution_count": 132,
     "metadata": {},
     "output_type": "execute_result"
    }
   ],
   "source": [
    "np.ones((3,3))"
   ]
  },
  {
   "cell_type": "code",
   "execution_count": 133,
   "id": "74ff7098",
   "metadata": {
    "execution": {
     "iopub.execute_input": "2022-09-08T19:29:55.442339Z",
     "iopub.status.busy": "2022-09-08T19:29:55.441716Z",
     "iopub.status.idle": "2022-09-08T19:29:55.448303Z",
     "shell.execute_reply": "2022-09-08T19:29:55.447010Z"
    },
    "papermill": {
     "duration": 0.063084,
     "end_time": "2022-09-08T19:29:55.451128",
     "exception": false,
     "start_time": "2022-09-08T19:29:55.388044",
     "status": "completed"
    },
    "tags": []
   },
   "outputs": [
    {
     "data": {
      "text/plain": [
       "array([1., 1., 1., 1., 1.])"
      ]
     },
     "execution_count": 133,
     "metadata": {},
     "output_type": "execute_result"
    }
   ],
   "source": [
    "np.empty(5)"
   ]
  },
  {
   "cell_type": "code",
   "execution_count": 134,
   "id": "f10d4192",
   "metadata": {
    "execution": {
     "iopub.execute_input": "2022-09-08T19:29:55.527437Z",
     "iopub.status.busy": "2022-09-08T19:29:55.527138Z",
     "iopub.status.idle": "2022-09-08T19:29:55.532601Z",
     "shell.execute_reply": "2022-09-08T19:29:55.531969Z"
    },
    "papermill": {
     "duration": 0.045445,
     "end_time": "2022-09-08T19:29:55.534070",
     "exception": false,
     "start_time": "2022-09-08T19:29:55.488625",
     "status": "completed"
    },
    "tags": []
   },
   "outputs": [
    {
     "data": {
      "text/plain": [
       "array([[0.25, 0.5 ],\n",
       "       [0.75, 1.  ]])"
      ]
     },
     "execution_count": 134,
     "metadata": {},
     "output_type": "execute_result"
    }
   ],
   "source": [
    "np.empty((2,2))"
   ]
  },
  {
   "cell_type": "markdown",
   "id": "e4b415ae",
   "metadata": {
    "papermill": {
     "duration": 0.036796,
     "end_time": "2022-09-08T19:29:55.607801",
     "exception": false,
     "start_time": "2022-09-08T19:29:55.571005",
     "status": "completed"
    },
    "tags": []
   },
   "source": [
    "> # **identity and eye**\n"
   ]
  },
  {
   "cell_type": "code",
   "execution_count": 135,
   "id": "a937b449",
   "metadata": {
    "execution": {
     "iopub.execute_input": "2022-09-08T19:29:55.683493Z",
     "iopub.status.busy": "2022-09-08T19:29:55.682964Z",
     "iopub.status.idle": "2022-09-08T19:29:55.688669Z",
     "shell.execute_reply": "2022-09-08T19:29:55.688051Z"
    },
    "papermill": {
     "duration": 0.045926,
     "end_time": "2022-09-08T19:29:55.690311",
     "exception": false,
     "start_time": "2022-09-08T19:29:55.644385",
     "status": "completed"
    },
    "tags": []
   },
   "outputs": [
    {
     "data": {
      "text/plain": [
       "array([[1., 0., 0.],\n",
       "       [0., 1., 0.],\n",
       "       [0., 0., 1.]])"
      ]
     },
     "execution_count": 135,
     "metadata": {},
     "output_type": "execute_result"
    }
   ],
   "source": [
    "np.identity(3)"
   ]
  },
  {
   "cell_type": "code",
   "execution_count": 136,
   "id": "0bacfb80",
   "metadata": {
    "execution": {
     "iopub.execute_input": "2022-09-08T19:29:55.767917Z",
     "iopub.status.busy": "2022-09-08T19:29:55.767593Z",
     "iopub.status.idle": "2022-09-08T19:29:55.774125Z",
     "shell.execute_reply": "2022-09-08T19:29:55.772687Z"
    },
    "papermill": {
     "duration": 0.049514,
     "end_time": "2022-09-08T19:29:55.776937",
     "exception": false,
     "start_time": "2022-09-08T19:29:55.727423",
     "status": "completed"
    },
    "tags": []
   },
   "outputs": [
    {
     "data": {
      "text/plain": [
       "array([[1., 0., 0.],\n",
       "       [0., 1., 0.],\n",
       "       [0., 0., 1.]])"
      ]
     },
     "execution_count": 136,
     "metadata": {},
     "output_type": "execute_result"
    }
   ],
   "source": [
    "np.eye(3,3)"
   ]
  },
  {
   "cell_type": "code",
   "execution_count": 137,
   "id": "a519e839",
   "metadata": {
    "execution": {
     "iopub.execute_input": "2022-09-08T19:29:55.905846Z",
     "iopub.status.busy": "2022-09-08T19:29:55.905284Z",
     "iopub.status.idle": "2022-09-08T19:29:55.911025Z",
     "shell.execute_reply": "2022-09-08T19:29:55.910435Z"
    },
    "papermill": {
     "duration": 0.097585,
     "end_time": "2022-09-08T19:29:55.912621",
     "exception": false,
     "start_time": "2022-09-08T19:29:55.815036",
     "status": "completed"
    },
    "tags": []
   },
   "outputs": [
    {
     "data": {
      "text/plain": [
       "array([[1., 0., 0., 0.],\n",
       "       [0., 1., 0., 0.],\n",
       "       [0., 0., 1., 0.],\n",
       "       [0., 0., 0., 1.],\n",
       "       [0., 0., 0., 0.],\n",
       "       [0., 0., 0., 0.],\n",
       "       [0., 0., 0., 0.],\n",
       "       [0., 0., 0., 0.]])"
      ]
     },
     "execution_count": 137,
     "metadata": {},
     "output_type": "execute_result"
    }
   ],
   "source": [
    "np.eye(8,4)"
   ]
  },
  {
   "cell_type": "code",
   "execution_count": 138,
   "id": "1362b523",
   "metadata": {
    "execution": {
     "iopub.execute_input": "2022-09-08T19:29:55.990944Z",
     "iopub.status.busy": "2022-09-08T19:29:55.990112Z",
     "iopub.status.idle": "2022-09-08T19:29:55.996752Z",
     "shell.execute_reply": "2022-09-08T19:29:55.995859Z"
    },
    "papermill": {
     "duration": 0.049282,
     "end_time": "2022-09-08T19:29:55.998685",
     "exception": false,
     "start_time": "2022-09-08T19:29:55.949403",
     "status": "completed"
    },
    "tags": []
   },
   "outputs": [
    {
     "data": {
      "text/plain": [
       "array([[0., 1., 0., 0.],\n",
       "       [0., 0., 1., 0.],\n",
       "       [0., 0., 0., 1.],\n",
       "       [0., 0., 0., 0.],\n",
       "       [0., 0., 0., 0.],\n",
       "       [0., 0., 0., 0.],\n",
       "       [0., 0., 0., 0.],\n",
       "       [0., 0., 0., 0.]])"
      ]
     },
     "execution_count": 138,
     "metadata": {},
     "output_type": "execute_result"
    }
   ],
   "source": [
    "np.eye(8,4,k =1)\n",
    "# k =1 means start identy 1's from 1st column"
   ]
  },
  {
   "cell_type": "code",
   "execution_count": 139,
   "id": "0d6f369e",
   "metadata": {
    "execution": {
     "iopub.execute_input": "2022-09-08T19:29:56.079384Z",
     "iopub.status.busy": "2022-09-08T19:29:56.078797Z",
     "iopub.status.idle": "2022-09-08T19:29:56.085646Z",
     "shell.execute_reply": "2022-09-08T19:29:56.084960Z"
    },
    "papermill": {
     "duration": 0.049178,
     "end_time": "2022-09-08T19:29:56.087612",
     "exception": false,
     "start_time": "2022-09-08T19:29:56.038434",
     "status": "completed"
    },
    "tags": []
   },
   "outputs": [
    {
     "data": {
      "text/plain": [
       "array([[0., 0., 0., 0.],\n",
       "       [0., 0., 0., 0.],\n",
       "       [0., 0., 0., 0.],\n",
       "       [1., 0., 0., 0.],\n",
       "       [0., 1., 0., 0.],\n",
       "       [0., 0., 1., 0.],\n",
       "       [0., 0., 0., 1.],\n",
       "       [0., 0., 0., 0.]])"
      ]
     },
     "execution_count": 139,
     "metadata": {},
     "output_type": "execute_result"
    }
   ],
   "source": [
    "np.eye(8,4,k =-3)"
   ]
  },
  {
   "cell_type": "code",
   "execution_count": 140,
   "id": "9740b4d9",
   "metadata": {
    "execution": {
     "iopub.execute_input": "2022-09-08T19:29:56.167309Z",
     "iopub.status.busy": "2022-09-08T19:29:56.166726Z",
     "iopub.status.idle": "2022-09-08T19:29:56.172470Z",
     "shell.execute_reply": "2022-09-08T19:29:56.171813Z"
    },
    "papermill": {
     "duration": 0.047338,
     "end_time": "2022-09-08T19:29:56.174221",
     "exception": false,
     "start_time": "2022-09-08T19:29:56.126883",
     "status": "completed"
    },
    "tags": []
   },
   "outputs": [
    {
     "data": {
      "text/plain": [
       "'W'"
      ]
     },
     "execution_count": 140,
     "metadata": {},
     "output_type": "execute_result"
    }
   ],
   "source": [
    "\"Hello Worlds\"[6]"
   ]
  }
 ],
 "metadata": {
  "kernelspec": {
   "display_name": "Python 3",
   "language": "python",
   "name": "python3"
  },
  "language_info": {
   "codemirror_mode": {
    "name": "ipython",
    "version": 3
   },
   "file_extension": ".py",
   "mimetype": "text/x-python",
   "name": "python",
   "nbconvert_exporter": "python",
   "pygments_lexer": "ipython3",
   "version": "3.7.12"
  },
  "papermill": {
   "default_parameters": {},
   "duration": 19.52055,
   "end_time": "2022-09-08T19:29:56.832826",
   "environment_variables": {},
   "exception": null,
   "input_path": "__notebook__.ipynb",
   "output_path": "__notebook__.ipynb",
   "parameters": {},
   "start_time": "2022-09-08T19:29:37.312276",
   "version": "2.3.4"
  }
 },
 "nbformat": 4,
 "nbformat_minor": 5
}
